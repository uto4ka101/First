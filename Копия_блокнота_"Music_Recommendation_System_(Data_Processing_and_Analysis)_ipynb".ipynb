{
  "cells": [
    {
      "cell_type": "markdown",
      "metadata": {
        "id": "view-in-github",
        "colab_type": "text"
      },
      "source": [
        "<a href=\"https://colab.research.google.com/github/uto4ka101/First/blob/main/%D0%9A%D0%BE%D0%BF%D0%B8%D1%8F_%D0%B1%D0%BB%D0%BE%D0%BA%D0%BD%D0%BE%D1%82%D0%B0_%22Music_Recommendation_System_(Data_Processing_and_Analysis)_ipynb%22.ipynb\" target=\"_parent\"><img src=\"https://colab.research.google.com/assets/colab-badge.svg\" alt=\"Open In Colab\"/></a>"
      ]
    },
    {
      "cell_type": "markdown",
      "metadata": {
        "id": "4HnQ-6APwQ0M"
      },
      "source": [
        "## Music Recommendation System (Data Processing and Analysis)"
      ]
    },
    {
      "cell_type": "markdown",
      "metadata": {
        "heading_collapsed": true,
        "id": "wPQ4iEcywQ01"
      },
      "source": [
        "### Framing the Problem"
      ]
    },
    {
      "cell_type": "markdown",
      "metadata": {
        "hidden": true,
        "id": "h2YIb_njwQ06"
      },
      "source": [
        "This project is aimed upon building a music recommendation system that gives the user recommendations on music based on his music taste by analysing his previously heard music and playlist. This project is done in two ways, using 'User - to - User Recommendation' and 'Item - to - Item Recommendation'. Birch, MiniBatchKMeans and KMeans algorithms are being used along with 'Surprise' module to compute the similarity between recommendations and user's already existing playlist for evaluation"
      ]
    },
    {
      "cell_type": "markdown",
      "metadata": {
        "heading_collapsed": true,
        "id": "5r_HJDs4wQ1D"
      },
      "source": [
        "### Obtaining Data"
      ]
    },
    {
      "cell_type": "code",
      "execution_count": null,
      "metadata": {
        "hidden": true,
        "id": "zR2-SyhRwQ1J",
        "outputId": "63aaf2f2-b700-422d-c850-dba0ff2b9254",
        "colab": {
          "base_uri": "https://localhost:8080/"
        }
      },
      "outputs": [
        {
          "output_type": "stream",
          "name": "stdout",
          "text": [
            "Cloning into 'fma'...\n",
            "remote: Enumerating objects: 823, done.\u001b[K\n",
            "remote: Counting objects: 100% (15/15), done.\u001b[K\n",
            "remote: Compressing objects: 100% (11/11), done.\u001b[K\n",
            "remote: Total 823 (delta 6), reused 12 (delta 4), pack-reused 808\u001b[K\n",
            "Receiving objects: 100% (823/823), 4.08 MiB | 18.84 MiB/s, done.\n",
            "Resolving deltas: 100% (528/528), done.\n"
          ]
        }
      ],
      "source": [
        "import pandas as pd\n",
        "import numpy as np\n",
        "import matplotlib.pyplot as plt\n",
        "import seaborn as sns\n",
        "import math\n",
        "import missingno as ms\n",
        "%matplotlib inline\n",
        "!pip install -q xlrd\n",
        "!git clone https://github.com/mdeff/fma.git\n"
      ]
    },
    {
      "cell_type": "code",
      "execution_count": null,
      "metadata": {
        "hidden": true,
        "id": "cVwVbB_ewQ1e"
      },
      "outputs": [],
      "source": [
        "url=\"https://drive.google.com/uc?export=download&id=1kfrYsB-BY0ch-rjAKPT6ULfrqRTuXzlv\"\n",
        "#echonest = pd.read_csv('https://drive.google.com/file/d/10bnRHudf_-GsDHmI27YZzXvQEZ9YmJIo/view?usp=sharing')\n",
        "genres=pd.read_csv(url)\n",
        "pd.set_option('display.max_rows', 200)\n",
        "pd.set_option('display.max_columns', 2000)"
      ]
    },
    {
      "cell_type": "markdown",
      "metadata": {
        "heading_collapsed": true,
        "hidden": true,
        "id": "N6LtARDtwQ14"
      },
      "source": [
        "#### Analysing Data"
      ]
    },
    {
      "cell_type": "code",
      "execution_count": null,
      "metadata": {
        "hidden": true,
        "id": "9F7BCpg-wQ2T",
        "outputId": "012733ee-d0da-4c08-d41a-2c29f68b1a37",
        "colab": {
          "base_uri": "https://localhost:8080/"
        }
      },
      "outputs": [
        {
          "output_type": "stream",
          "name": "stdout",
          "text": [
            "<class 'pandas.core.frame.DataFrame'>\n",
            "RangeIndex: 163 entries, 0 to 162\n",
            "Data columns (total 5 columns):\n",
            " #   Column     Non-Null Count  Dtype \n",
            "---  ------     --------------  ----- \n",
            " 0   genre_id   163 non-null    int64 \n",
            " 1   #tracks    163 non-null    int64 \n",
            " 2   parent     163 non-null    int64 \n",
            " 3   title      163 non-null    object\n",
            " 4   top_level  163 non-null    int64 \n",
            "dtypes: int64(4), object(1)\n",
            "memory usage: 6.5+ KB\n"
          ]
        }
      ],
      "source": [
        "genres.info()"
      ]
    },
    {
      "cell_type": "markdown",
      "metadata": {
        "heading_collapsed": true,
        "hidden": true,
        "id": "_Os5TN4pwQ2h"
      },
      "source": [
        "#### Feature Engineering"
      ]
    },
    {
      "cell_type": "code",
      "execution_count": null,
      "metadata": {
        "hidden": true,
        "id": "6ta9INEowQ3q"
      },
      "outputs": [],
      "source": [
        "def convert_to_float(df, columns):\n",
        "    for i in columns:\n",
        "        df[i] = df[i].astype('float')\n",
        "    return df"
      ]
    },
    {
      "cell_type": "markdown",
      "metadata": {
        "heading_collapsed": true,
        "hidden": true,
        "id": "AsX8t7xAwQ37"
      },
      "source": [
        "#### Analysing Data"
      ]
    },
    {
      "cell_type": "markdown",
      "metadata": {
        "heading_collapsed": true,
        "hidden": true,
        "id": "ItWclsqhwQ4J"
      },
      "source": [
        "#### Feature Engineering"
      ]
    },
    {
      "cell_type": "code",
      "execution_count": null,
      "metadata": {
        "hidden": true,
        "id": "uytNZJIDwQ4a"
      },
      "outputs": [],
      "source": [
        "def combine_two_rows(df):\n",
        "    columns = list(df.columns)\n",
        "    for i in range(0, 519):\n",
        "        columns[i] = columns[i] + \" \" + df.iloc[0, i]\n",
        "    return columns"
      ]
    },
    {
      "cell_type": "markdown",
      "metadata": {
        "heading_collapsed": true,
        "hidden": true,
        "id": "E32TTtNzwQ5A"
      },
      "source": [
        "#### Analysing Data"
      ]
    },
    {
      "cell_type": "code",
      "execution_count": null,
      "metadata": {
        "hidden": true,
        "id": "KNxo5pDRwQ5b"
      },
      "outputs": [],
      "source": [
        "def combine_one_row(df):\n",
        "    columns = list(df.columns)\n",
        "    for i in range(0, 53):\n",
        "        if i == 0:\n",
        "            columns[i] = df.iloc[0, i]\n",
        "        else:\n",
        "            columns[i] = columns[i] + \" \" + df.iloc[0, i]\n",
        "    return columns"
      ]
    },
    {
      "cell_type": "code",
      "execution_count": null,
      "metadata": {
        "hidden": true,
        "id": "OH3nYVHCwQ6b"
      },
      "outputs": [],
      "source": [
        "genres.info()"
      ]
    },
    {
      "cell_type": "code",
      "execution_count": null,
      "metadata": {
        "hidden": true,
        "id": "Baz4nPaMwQ6h"
      },
      "outputs": [],
      "source": [
        "def getList(cd):\n",
        "    return cd[1:-1].split(',')"
      ]
    },
    {
      "cell_type": "markdown",
      "metadata": {
        "heading_collapsed": true,
        "id": "R9Q6x2hcwQ6n"
      },
      "source": [
        "### Working with 'Genre' dataset"
      ]
    },
    {
      "cell_type": "markdown",
      "metadata": {
        "heading_collapsed": true,
        "hidden": true,
        "id": "Jk5z4rYcwQ6q"
      },
      "source": [
        "#### Analysing Data"
      ]
    },
    {
      "cell_type": "code",
      "execution_count": null,
      "metadata": {
        "hidden": true,
        "id": "BFYQyBehwQ6t",
        "outputId": "ad0c39f8-7039-485e-f92a-ed86fc299380",
        "colab": {
          "base_uri": "https://localhost:8080/"
        }
      },
      "outputs": [
        {
          "output_type": "stream",
          "name": "stdout",
          "text": [
            "<class 'pandas.core.frame.DataFrame'>\n",
            "RangeIndex: 163 entries, 0 to 162\n",
            "Data columns (total 5 columns):\n",
            " #   Column     Non-Null Count  Dtype \n",
            "---  ------     --------------  ----- \n",
            " 0   genre_id   163 non-null    int64 \n",
            " 1   #tracks    163 non-null    int64 \n",
            " 2   parent     163 non-null    int64 \n",
            " 3   title      163 non-null    object\n",
            " 4   top_level  163 non-null    int64 \n",
            "dtypes: int64(4), object(1)\n",
            "memory usage: 6.5+ KB\n"
          ]
        }
      ],
      "source": [
        "genres.info()"
      ]
    },
    {
      "cell_type": "code",
      "execution_count": null,
      "metadata": {
        "hidden": true,
        "id": "Sp-YarMvwQ6x",
        "outputId": "7bfa3fa0-3439-4138-9e94-d2de96a366a7",
        "colab": {
          "base_uri": "https://localhost:8080/",
          "height": 538
        }
      },
      "outputs": [
        {
          "output_type": "execute_result",
          "data": {
            "text/plain": [
              "<matplotlib.axes._subplots.AxesSubplot at 0x7fe700d62210>"
            ]
          },
          "metadata": {},
          "execution_count": 14
        },
        {
          "output_type": "display_data",
          "data": {
            "image/png": "[encoded data removed]",
            "text/plain": [
              "<Figure size 1800x720 with 2 Axes>"
            ]
          },
          "metadata": {
            "needs_background": "light"
          }
        }
      ],
      "source": [
        "ms.matrix(genres)"
      ]
    },
    {
      "cell_type": "code",
      "execution_count": null,
      "metadata": {
        "hidden": true,
        "id": "2fzOoowJwQ64",
        "outputId": "42bf9fff-a804-45b3-abd6-07fe6d1172e9",
        "colab": {
          "base_uri": "https://localhost:8080/",
          "height": 206
        }
      },
      "outputs": [
        {
          "output_type": "execute_result",
          "data": {
            "text/html": [
              "\n",
              "  <div id=\"df-ce23f6dc-c9e6-40ae-9cdc-524ae73c1d05\">\n",
              "    <div class=\"colab-df-container\">\n",
              "      <div>\n",
              "<style scoped>\n",
              "    .dataframe tbody tr th:only-of-type {\n",
              "        vertical-align: middle;\n",
              "    }\n",
              "\n",
              "    .dataframe tbody tr th {\n",
              "        vertical-align: top;\n",
              "    }\n",
              "\n",
              "    .dataframe thead th {\n",
              "        text-align: right;\n",
              "    }\n",
              "</style>\n",
              "<table border=\"1\" class=\"dataframe\">\n",
              "  <thead>\n",
              "    <tr style=\"text-align: right;\">\n",
              "      <th></th>\n",
              "      <th>genre_id</th>\n",
              "      <th>#tracks</th>\n",
              "      <th>parent</th>\n",
              "      <th>title</th>\n",
              "      <th>top_level</th>\n",
              "    </tr>\n",
              "  </thead>\n",
              "  <tbody>\n",
              "    <tr>\n",
              "      <th>0</th>\n",
              "      <td>1</td>\n",
              "      <td>8693</td>\n",
              "      <td>38</td>\n",
              "      <td>Avant-Garde</td>\n",
              "      <td>38</td>\n",
              "    </tr>\n",
              "    <tr>\n",
              "      <th>1</th>\n",
              "      <td>2</td>\n",
              "      <td>5271</td>\n",
              "      <td>0</td>\n",
              "      <td>International</td>\n",
              "      <td>2</td>\n",
              "    </tr>\n",
              "    <tr>\n",
              "      <th>2</th>\n",
              "      <td>3</td>\n",
              "      <td>1752</td>\n",
              "      <td>0</td>\n",
              "      <td>Blues</td>\n",
              "      <td>3</td>\n",
              "    </tr>\n",
              "    <tr>\n",
              "      <th>3</th>\n",
              "      <td>4</td>\n",
              "      <td>4126</td>\n",
              "      <td>0</td>\n",
              "      <td>Jazz</td>\n",
              "      <td>4</td>\n",
              "    </tr>\n",
              "    <tr>\n",
              "      <th>4</th>\n",
              "      <td>5</td>\n",
              "      <td>4106</td>\n",
              "      <td>0</td>\n",
              "      <td>Classical</td>\n",
              "      <td>5</td>\n",
              "    </tr>\n",
              "  </tbody>\n",
              "</table>\n",
              "</div>\n",
              "      <button class=\"colab-df-convert\" onclick=\"convertToInteractive('df-ce23f6dc-c9e6-40ae-9cdc-524ae73c1d05')\"\n",
              "              title=\"Convert this dataframe to an interactive table.\"\n",
              "              style=\"display:none;\">\n",
              "        \n",
              "  <svg xmlns=\"http://www.w3.org/2000/svg\" height=\"24px\"viewBox=\"0 0 24 24\"\n",
              "       width=\"24px\">\n",
              "    <path d=\"M0 0h24v24H0V0z\" fill=\"none\"/>\n",
              "    <path d=\"M18.56 5.44l.94 2.06.94-2.06 2.06-.94-2.06-.94-.94-2.06-.94 2.06-2.06.94zm-11 1L8.5 8.5l.94-2.06 2.06-.94-2.06-.94L8.5 2.5l-.94 2.06-2.06.94zm10 10l.94 2.06.94-2.06 2.06-.94-2.06-.94-.94-2.06-.94 2.06-2.06.94z\"/><path d=\"M17.41 7.96l-1.37-1.37c-.4-.4-.92-.59-1.43-.59-.52 0-1.04.2-1.43.59L10.3 9.45l-7.72 7.72c-.78.78-.78 2.05 0 2.83L4 21.41c.39.39.9.59 1.41.59.51 0 1.02-.2 1.41-.59l7.78-7.78 2.81-2.81c.8-.78.8-2.07 0-2.86zM5.41 20L4 18.59l7.72-7.72 1.47 1.35L5.41 20z\"/>\n",
              "  </svg>\n",
              "      </button>\n",
              "      \n",
              "  <style>\n",
              "    .colab-df-container {\n",
              "      display:flex;\n",
              "      flex-wrap:wrap;\n",
              "      gap: 12px;\n",
              "    }\n",
              "\n",
              "    .colab-df-convert {\n",
              "      background-color: #E8F0FE;\n",
              "      border: none;\n",
              "      border-radius: 50%;\n",
              "      cursor: pointer;\n",
              "      display: none;\n",
              "      fill: #1967D2;\n",
              "      height: 32px;\n",
              "      padding: 0 0 0 0;\n",
              "      width: 32px;\n",
              "    }\n",
              "\n",
              "    .colab-df-convert:hover {\n",
              "      background-color: #E2EBFA;\n",
              "      box-shadow: 0px 1px 2px rgba(60, 64, 67, 0.3), 0px 1px 3px 1px rgba(60, 64, 67, 0.15);\n",
              "      fill: #174EA6;\n",
              "    }\n",
              "\n",
              "    [theme=dark] .colab-df-convert {\n",
              "      background-color: #3B4455;\n",
              "      fill: #D2E3FC;\n",
              "    }\n",
              "\n",
              "    [theme=dark] .colab-df-convert:hover {\n",
              "      background-color: #434B5C;\n",
              "      box-shadow: 0px 1px 3px 1px rgba(0, 0, 0, 0.15);\n",
              "      filter: drop-shadow(0px 1px 2px rgba(0, 0, 0, 0.3));\n",
              "      fill: #FFFFFF;\n",
              "    }\n",
              "  </style>\n",
              "\n",
              "      <script>\n",
              "        const buttonEl =\n",
              "          document.querySelector('#df-ce23f6dc-c9e6-40ae-9cdc-524ae73c1d05 button.colab-df-convert');\n",
              "        buttonEl.style.display =\n",
              "          google.colab.kernel.accessAllowed ? 'block' : 'none';\n",
              "\n",
              "        async function convertToInteractive(key) {\n",
              "          const element = document.querySelector('#df-ce23f6dc-c9e6-40ae-9cdc-524ae73c1d05');\n",
              "          const dataTable =\n",
              "            await google.colab.kernel.invokeFunction('convertToInteractive',\n",
              "                                                     [key], {});\n",
              "          if (!dataTable) return;\n",
              "\n",
              "          const docLinkHtml = 'Like what you see? Visit the ' +\n",
              "            '<a target=\"_blank\" href=https://colab.research.google.com/notebooks/data_table.ipynb>data table notebook</a>'\n",
              "            + ' to learn more about interactive tables.';\n",
              "          element.innerHTML = '';\n",
              "          dataTable['output_type'] = 'display_data';\n",
              "          await google.colab.output.renderOutput(dataTable, element);\n",
              "          const docLink = document.createElement('div');\n",
              "          docLink.innerHTML = docLinkHtml;\n",
              "          element.appendChild(docLink);\n",
              "        }\n",
              "      </script>\n",
              "    </div>\n",
              "  </div>\n",
              "  "
            ],
            "text/plain": [
              "   genre_id  #tracks  parent          title  top_level\n",
              "0         1     8693      38    Avant-Garde         38\n",
              "1         2     5271       0  International          2\n",
              "2         3     1752       0          Blues          3\n",
              "3         4     4126       0           Jazz          4\n",
              "4         5     4106       0      Classical          5"
            ]
          },
          "metadata": {},
          "execution_count": 15
        }
      ],
      "source": [
        "genres.head()"
      ]
    },
    {
      "cell_type": "markdown",
      "metadata": {
        "hidden": true,
        "id": "bxiQdK6VwQ6_"
      },
      "source": [
        "Nothing to engineer!"
      ]
    },
    {
      "cell_type": "markdown",
      "metadata": {
        "heading_collapsed": true,
        "id": "eKh0LVVBwQ7E"
      },
      "source": [
        "### Combining all datasets into a single entity"
      ]
    },
    {
      "cell_type": "markdown",
      "metadata": {
        "heading_collapsed": true,
        "hidden": true,
        "id": "yA1Q9TO6wQ7I"
      },
      "source": [
        "#### Analysing Data"
      ]
    },
    {
      "cell_type": "code",
      "execution_count": null,
      "metadata": {
        "hidden": true,
        "id": "wpVk_SwowQ7X",
        "outputId": "22dabeb6-b3a2-4296-de5b-5d762000e1ba",
        "colab": {
          "base_uri": "https://localhost:8080/"
        }
      },
      "outputs": [
        {
          "output_type": "stream",
          "name": "stdout",
          "text": [
            "<class 'pandas.core.frame.DataFrame'>\n",
            "RangeIndex: 163 entries, 0 to 162\n",
            "Data columns (total 5 columns):\n",
            " #   Column     Non-Null Count  Dtype \n",
            "---  ------     --------------  ----- \n",
            " 0   genre_id   163 non-null    int64 \n",
            " 1   #tracks    163 non-null    int64 \n",
            " 2   parent     163 non-null    int64 \n",
            " 3   title      163 non-null    object\n",
            " 4   top_level  163 non-null    int64 \n",
            "dtypes: int64(4), object(1)\n",
            "memory usage: 6.5+ KB\n"
          ]
        }
      ],
      "source": [
        "genres.info()"
      ]
    },
    {
      "cell_type": "markdown",
      "metadata": {
        "heading_collapsed": true,
        "hidden": true,
        "id": "ca7yJkthwQ7e"
      },
      "source": [
        "#### Feature Engineering"
      ]
    },
    {
      "cell_type": "code",
      "execution_count": null,
      "metadata": {
        "hidden": true,
        "id": "l5q4NKhCwQ7g"
      },
      "outputs": [],
      "source": [
        "features.columns = ['track_id'] + list(features.columns[1:])"
      ]
    },
    {
      "cell_type": "code",
      "execution_count": null,
      "metadata": {
        "hidden": true,
        "id": "5jt86EtBwQ7i"
      },
      "outputs": [],
      "source": [
        "features.head()"
      ]
    },
    {
      "cell_type": "code",
      "execution_count": null,
      "metadata": {
        "hidden": true,
        "id": "E4vBSIhVwQ7k"
      },
      "outputs": [],
      "source": [
        "type(echonest['track_id'].iloc[0])"
      ]
    },
    {
      "cell_type": "code",
      "execution_count": null,
      "metadata": {
        "hidden": true,
        "id": "QFJvW26qwQ7m"
      },
      "outputs": [],
      "source": [
        "echonest['track_id'] = echonest['track_id'].astype('int')\n",
        "tracks['track_id'] = tracks['track_id'].astype('int')"
      ]
    },
    {
      "cell_type": "code",
      "execution_count": null,
      "metadata": {
        "hidden": true,
        "id": "hqPwziWZwQ7o"
      },
      "outputs": [],
      "source": [
        "features.sort_values(by='track_id', inplace=True)\n",
        "tracks.sort_values(by='track_id', inplace=True)\n",
        "echonest.sort_values(by='track_id', inplace=True)"
      ]
    },
    {
      "cell_type": "code",
      "execution_count": null,
      "metadata": {
        "hidden": true,
        "id": "ijlZTXm1wQ7q"
      },
      "outputs": [],
      "source": [
        "features.head()"
      ]
    },
    {
      "cell_type": "code",
      "execution_count": null,
      "metadata": {
        "hidden": true,
        "id": "1cGcmIk_wQ7t"
      },
      "outputs": [],
      "source": [
        "tracks.head()"
      ]
    },
    {
      "cell_type": "code",
      "execution_count": null,
      "metadata": {
        "hidden": true,
        "scrolled": false,
        "id": "BQkw6_4JwQ7w"
      },
      "outputs": [],
      "source": [
        "count = 0\n",
        "for i in range(0, 106574):\n",
        "    if features['track_id'][i] == tracks['track_id'][i]:\n",
        "        count += 1\n",
        "    else:\n",
        "        print(features['track_id'][i], tracks['track_id'][i])"
      ]
    },
    {
      "cell_type": "code",
      "execution_count": null,
      "metadata": {
        "hidden": true,
        "id": "JsOedyf2wQ7z"
      },
      "outputs": [],
      "source": [
        "final = pd.concat([features, tracks.drop('track_id', axis=1)], axis=1)"
      ]
    },
    {
      "cell_type": "code",
      "execution_count": null,
      "metadata": {
        "hidden": true,
        "id": "0jueSyKbwQ72"
      },
      "outputs": [],
      "source": [
        "final.shape"
      ]
    },
    {
      "cell_type": "code",
      "execution_count": null,
      "metadata": {
        "hidden": true,
        "id": "O3FLt4O_wQ75"
      },
      "outputs": [],
      "source": [
        "final.head()"
      ]
    },
    {
      "cell_type": "code",
      "execution_count": null,
      "metadata": {
        "hidden": true,
        "id": "17JgndauwQ78"
      },
      "outputs": [],
      "source": [
        "echonest.tail(3)"
      ]
    },
    {
      "cell_type": "code",
      "execution_count": null,
      "metadata": {
        "hidden": true,
        "id": "LwDUZ-D-wQ7-"
      },
      "outputs": [],
      "source": [
        "echonest.drop(['artist_name', 'release'], axis=1, inplace=True)"
      ]
    },
    {
      "cell_type": "code",
      "execution_count": null,
      "metadata": {
        "hidden": true,
        "id": "K53ieX89wQ8C"
      },
      "outputs": [],
      "source": [
        "tracks.tail(3)"
      ]
    },
    {
      "cell_type": "code",
      "execution_count": null,
      "metadata": {
        "hidden": true,
        "id": "b1E2mUTKwQ8J"
      },
      "outputs": [],
      "source": [
        "features.head(1)"
      ]
    },
    {
      "cell_type": "code",
      "execution_count": null,
      "metadata": {
        "hidden": true,
        "id": "uwc_aTU1wQ8M"
      },
      "outputs": [],
      "source": [
        "final = echonest.merge(final, on='track_id')"
      ]
    },
    {
      "cell_type": "code",
      "execution_count": null,
      "metadata": {
        "hidden": true,
        "id": "AH-4RMo5wQ8P"
      },
      "outputs": [],
      "source": [
        "final.shape"
      ]
    },
    {
      "cell_type": "code",
      "execution_count": null,
      "metadata": {
        "hidden": true,
        "id": "qlDOMN92wQ8U"
      },
      "outputs": [],
      "source": [
        "ms.matrix(final)"
      ]
    },
    {
      "cell_type": "markdown",
      "metadata": {
        "heading_collapsed": true,
        "id": "fGK-rkLlwQ8W"
      },
      "source": [
        "### Analysing Data"
      ]
    },
    {
      "cell_type": "code",
      "execution_count": null,
      "metadata": {
        "hidden": true,
        "id": "-6_a6yD1wQ8Y"
      },
      "outputs": [],
      "source": [
        "final.head()"
      ]
    },
    {
      "cell_type": "code",
      "execution_count": null,
      "metadata": {
        "hidden": true,
        "id": "bbJvF7qywQ8b"
      },
      "outputs": [],
      "source": [
        "final.shape"
      ]
    },
    {
      "cell_type": "code",
      "execution_count": null,
      "metadata": {
        "hidden": true,
        "id": "kmFDWZ8HwQ8e"
      },
      "outputs": [],
      "source": [
        "final.info()"
      ]
    },
    {
      "cell_type": "code",
      "execution_count": null,
      "metadata": {
        "hidden": true,
        "id": "VTmmPbb3wQ8h"
      },
      "outputs": [],
      "source": [
        "final.drop('track.8 genres', axis=1, inplace=True)"
      ]
    },
    {
      "cell_type": "code",
      "execution_count": null,
      "metadata": {
        "hidden": true,
        "id": "vLQYCD6NwQ8l"
      },
      "outputs": [],
      "source": [
        "final.shape"
      ]
    },
    {
      "cell_type": "code",
      "execution_count": null,
      "metadata": {
        "hidden": true,
        "id": "Ex-ptSxrwQ8p"
      },
      "outputs": [],
      "source": [
        "final.head()"
      ]
    },
    {
      "cell_type": "code",
      "execution_count": null,
      "metadata": {
        "hidden": true,
        "scrolled": true,
        "id": "cG2P-eH1wQ8t"
      },
      "outputs": [],
      "source": [
        "final['track.7 genre_top'].value_counts()"
      ]
    },
    {
      "cell_type": "markdown",
      "metadata": {
        "heading_collapsed": true,
        "id": "GxxXtxnKwQ8w"
      },
      "source": [
        "### Feature Engineering"
      ]
    },
    {
      "cell_type": "code",
      "execution_count": null,
      "metadata": {
        "hidden": true,
        "id": "LO9V_f0fwQ8z"
      },
      "outputs": [],
      "source": [
        "def format_strings(x):\n",
        "    if '-' in x:\n",
        "        return ''.join(x.split('-'))\n",
        "    if x.find('/'):\n",
        "        return '|'.join(x.split('/'))\n",
        "    return x"
      ]
    },
    {
      "cell_type": "code",
      "execution_count": null,
      "metadata": {
        "hidden": true,
        "id": "aXoJA2aWwQ81"
      },
      "outputs": [],
      "source": [
        "def modifyString(serie, val):\n",
        "    for i in range(0, val):\n",
        "        if serie[i] == 'Old-Time / Historic':\n",
        "            serie[i] = 'OldTime|Historic'\n",
        "    return serie"
      ]
    },
    {
      "cell_type": "code",
      "execution_count": null,
      "metadata": {
        "hidden": true,
        "id": "UKBvFJFJwQ9F"
      },
      "outputs": [],
      "source": [
        "metadata = pd.DataFrame()"
      ]
    },
    {
      "cell_type": "code",
      "execution_count": null,
      "metadata": {
        "hidden": true,
        "id": "7rhr8md6wQ9J",
        "outputId": "175ce5ab-ce6e-440b-9a84-8023bc8f2789",
        "colab": {
          "base_uri": "https://localhost:8080/"
        }
      },
      "outputs": [
        {
          "output_type": "execute_result",
          "data": {
            "text/plain": [
              "(0, 0)"
            ]
          },
          "metadata": {},
          "execution_count": 30
        }
      ],
      "source": [
        "metadata.shape"
      ]
    },
    {
      "cell_type": "code",
      "execution_count": null,
      "metadata": {
        "hidden": true,
        "id": "whZt78VnwQ9m",
        "outputId": "bb2069a7-028b-4d2b-c0f5-ffe4a043cd88",
        "colab": {
          "base_uri": "https://localhost:8080/",
          "height": 48
        }
      },
      "outputs": [
        {
          "output_type": "execute_result",
          "data": {
            "text/html": [
              "\n",
              "  <div id=\"df-9ccfb5c9-2dcd-44ce-a197-992713f17a86\">\n",
              "    <div class=\"colab-df-container\">\n",
              "      <div>\n",
              "<style scoped>\n",
              "    .dataframe tbody tr th:only-of-type {\n",
              "        vertical-align: middle;\n",
              "    }\n",
              "\n",
              "    .dataframe tbody tr th {\n",
              "        vertical-align: top;\n",
              "    }\n",
              "\n",
              "    .dataframe thead th {\n",
              "        text-align: right;\n",
              "    }\n",
              "</style>\n",
              "<table border=\"1\" class=\"dataframe\">\n",
              "  <thead>\n",
              "    <tr style=\"text-align: right;\">\n",
              "      <th></th>\n",
              "    </tr>\n",
              "  </thead>\n",
              "  <tbody>\n",
              "  </tbody>\n",
              "</table>\n",
              "</div>\n",
              "      <button class=\"colab-df-convert\" onclick=\"convertToInteractive('df-9ccfb5c9-2dcd-44ce-a197-992713f17a86')\"\n",
              "              title=\"Convert this dataframe to an interactive table.\"\n",
              "              style=\"display:none;\">\n",
              "        \n",
              "  <svg xmlns=\"http://www.w3.org/2000/svg\" height=\"24px\"viewBox=\"0 0 24 24\"\n",
              "       width=\"24px\">\n",
              "    <path d=\"M0 0h24v24H0V0z\" fill=\"none\"/>\n",
              "    <path d=\"M18.56 5.44l.94 2.06.94-2.06 2.06-.94-2.06-.94-.94-2.06-.94 2.06-2.06.94zm-11 1L8.5 8.5l.94-2.06 2.06-.94-2.06-.94L8.5 2.5l-.94 2.06-2.06.94zm10 10l.94 2.06.94-2.06 2.06-.94-2.06-.94-.94-2.06-.94 2.06-2.06.94z\"/><path d=\"M17.41 7.96l-1.37-1.37c-.4-.4-.92-.59-1.43-.59-.52 0-1.04.2-1.43.59L10.3 9.45l-7.72 7.72c-.78.78-.78 2.05 0 2.83L4 21.41c.39.39.9.59 1.41.59.51 0 1.02-.2 1.41-.59l7.78-7.78 2.81-2.81c.8-.78.8-2.07 0-2.86zM5.41 20L4 18.59l7.72-7.72 1.47 1.35L5.41 20z\"/>\n",
              "  </svg>\n",
              "      </button>\n",
              "      \n",
              "  <style>\n",
              "    .colab-df-container {\n",
              "      display:flex;\n",
              "      flex-wrap:wrap;\n",
              "      gap: 12px;\n",
              "    }\n",
              "\n",
              "    .colab-df-convert {\n",
              "      background-color: #E8F0FE;\n",
              "      border: none;\n",
              "      border-radius: 50%;\n",
              "      cursor: pointer;\n",
              "      display: none;\n",
              "      fill: #1967D2;\n",
              "      height: 32px;\n",
              "      padding: 0 0 0 0;\n",
              "      width: 32px;\n",
              "    }\n",
              "\n",
              "    .colab-df-convert:hover {\n",
              "      background-color: #E2EBFA;\n",
              "      box-shadow: 0px 1px 2px rgba(60, 64, 67, 0.3), 0px 1px 3px 1px rgba(60, 64, 67, 0.15);\n",
              "      fill: #174EA6;\n",
              "    }\n",
              "\n",
              "    [theme=dark] .colab-df-convert {\n",
              "      background-color: #3B4455;\n",
              "      fill: #D2E3FC;\n",
              "    }\n",
              "\n",
              "    [theme=dark] .colab-df-convert:hover {\n",
              "      background-color: #434B5C;\n",
              "      box-shadow: 0px 1px 3px 1px rgba(0, 0, 0, 0.15);\n",
              "      filter: drop-shadow(0px 1px 2px rgba(0, 0, 0, 0.3));\n",
              "      fill: #FFFFFF;\n",
              "    }\n",
              "  </style>\n",
              "\n",
              "      <script>\n",
              "        const buttonEl =\n",
              "          document.querySelector('#df-9ccfb5c9-2dcd-44ce-a197-992713f17a86 button.colab-df-convert');\n",
              "        buttonEl.style.display =\n",
              "          google.colab.kernel.accessAllowed ? 'block' : 'none';\n",
              "\n",
              "        async function convertToInteractive(key) {\n",
              "          const element = document.querySelector('#df-9ccfb5c9-2dcd-44ce-a197-992713f17a86');\n",
              "          const dataTable =\n",
              "            await google.colab.kernel.invokeFunction('convertToInteractive',\n",
              "                                                     [key], {});\n",
              "          if (!dataTable) return;\n",
              "\n",
              "          const docLinkHtml = 'Like what you see? Visit the ' +\n",
              "            '<a target=\"_blank\" href=https://colab.research.google.com/notebooks/data_table.ipynb>data table notebook</a>'\n",
              "            + ' to learn more about interactive tables.';\n",
              "          element.innerHTML = '';\n",
              "          dataTable['output_type'] = 'display_data';\n",
              "          await google.colab.output.renderOutput(dataTable, element);\n",
              "          const docLink = document.createElement('div');\n",
              "          docLink.innerHTML = docLinkHtml;\n",
              "          element.appendChild(docLink);\n",
              "        }\n",
              "      </script>\n",
              "    </div>\n",
              "  </div>\n",
              "  "
            ],
            "text/plain": [
              "Empty DataFrame\n",
              "Columns: []\n",
              "Index: []"
            ]
          },
          "metadata": {},
          "execution_count": 34
        }
      ],
      "source": [
        "metadata.tail()"
      ]
    },
    {
      "cell_type": "code",
      "execution_count": null,
      "metadata": {
        "hidden": true,
        "id": "isHmI69awQ9q",
        "outputId": "92842e04-b32e-44f6-d58a-6a00744ac93b",
        "colab": {
          "base_uri": "https://localhost:8080/",
          "height": 48
        }
      },
      "outputs": [
        {
          "output_type": "execute_result",
          "data": {
            "text/html": [
              "\n",
              "  <div id=\"df-730d52d6-355a-40fc-8a5e-e3ef1b405930\">\n",
              "    <div class=\"colab-df-container\">\n",
              "      <div>\n",
              "<style scoped>\n",
              "    .dataframe tbody tr th:only-of-type {\n",
              "        vertical-align: middle;\n",
              "    }\n",
              "\n",
              "    .dataframe tbody tr th {\n",
              "        vertical-align: top;\n",
              "    }\n",
              "\n",
              "    .dataframe thead th {\n",
              "        text-align: right;\n",
              "    }\n",
              "</style>\n",
              "<table border=\"1\" class=\"dataframe\">\n",
              "  <thead>\n",
              "    <tr style=\"text-align: right;\">\n",
              "      <th></th>\n",
              "    </tr>\n",
              "  </thead>\n",
              "  <tbody>\n",
              "  </tbody>\n",
              "</table>\n",
              "</div>\n",
              "      <button class=\"colab-df-convert\" onclick=\"convertToInteractive('df-730d52d6-355a-40fc-8a5e-e3ef1b405930')\"\n",
              "              title=\"Convert this dataframe to an interactive table.\"\n",
              "              style=\"display:none;\">\n",
              "        \n",
              "  <svg xmlns=\"http://www.w3.org/2000/svg\" height=\"24px\"viewBox=\"0 0 24 24\"\n",
              "       width=\"24px\">\n",
              "    <path d=\"M0 0h24v24H0V0z\" fill=\"none\"/>\n",
              "    <path d=\"M18.56 5.44l.94 2.06.94-2.06 2.06-.94-2.06-.94-.94-2.06-.94 2.06-2.06.94zm-11 1L8.5 8.5l.94-2.06 2.06-.94-2.06-.94L8.5 2.5l-.94 2.06-2.06.94zm10 10l.94 2.06.94-2.06 2.06-.94-2.06-.94-.94-2.06-.94 2.06-2.06.94z\"/><path d=\"M17.41 7.96l-1.37-1.37c-.4-.4-.92-.59-1.43-.59-.52 0-1.04.2-1.43.59L10.3 9.45l-7.72 7.72c-.78.78-.78 2.05 0 2.83L4 21.41c.39.39.9.59 1.41.59.51 0 1.02-.2 1.41-.59l7.78-7.78 2.81-2.81c.8-.78.8-2.07 0-2.86zM5.41 20L4 18.59l7.72-7.72 1.47 1.35L5.41 20z\"/>\n",
              "  </svg>\n",
              "      </button>\n",
              "      \n",
              "  <style>\n",
              "    .colab-df-container {\n",
              "      display:flex;\n",
              "      flex-wrap:wrap;\n",
              "      gap: 12px;\n",
              "    }\n",
              "\n",
              "    .colab-df-convert {\n",
              "      background-color: #E8F0FE;\n",
              "      border: none;\n",
              "      border-radius: 50%;\n",
              "      cursor: pointer;\n",
              "      display: none;\n",
              "      fill: #1967D2;\n",
              "      height: 32px;\n",
              "      padding: 0 0 0 0;\n",
              "      width: 32px;\n",
              "    }\n",
              "\n",
              "    .colab-df-convert:hover {\n",
              "      background-color: #E2EBFA;\n",
              "      box-shadow: 0px 1px 2px rgba(60, 64, 67, 0.3), 0px 1px 3px 1px rgba(60, 64, 67, 0.15);\n",
              "      fill: #174EA6;\n",
              "    }\n",
              "\n",
              "    [theme=dark] .colab-df-convert {\n",
              "      background-color: #3B4455;\n",
              "      fill: #D2E3FC;\n",
              "    }\n",
              "\n",
              "    [theme=dark] .colab-df-convert:hover {\n",
              "      background-color: #434B5C;\n",
              "      box-shadow: 0px 1px 3px 1px rgba(0, 0, 0, 0.15);\n",
              "      filter: drop-shadow(0px 1px 2px rgba(0, 0, 0, 0.3));\n",
              "      fill: #FFFFFF;\n",
              "    }\n",
              "  </style>\n",
              "\n",
              "      <script>\n",
              "        const buttonEl =\n",
              "          document.querySelector('#df-730d52d6-355a-40fc-8a5e-e3ef1b405930 button.colab-df-convert');\n",
              "        buttonEl.style.display =\n",
              "          google.colab.kernel.accessAllowed ? 'block' : 'none';\n",
              "\n",
              "        async function convertToInteractive(key) {\n",
              "          const element = document.querySelector('#df-730d52d6-355a-40fc-8a5e-e3ef1b405930');\n",
              "          const dataTable =\n",
              "            await google.colab.kernel.invokeFunction('convertToInteractive',\n",
              "                                                     [key], {});\n",
              "          if (!dataTable) return;\n",
              "\n",
              "          const docLinkHtml = 'Like what you see? Visit the ' +\n",
              "            '<a target=\"_blank\" href=https://colab.research.google.com/notebooks/data_table.ipynb>data table notebook</a>'\n",
              "            + ' to learn more about interactive tables.';\n",
              "          element.innerHTML = '';\n",
              "          dataTable['output_type'] = 'display_data';\n",
              "          await google.colab.output.renderOutput(dataTable, element);\n",
              "          const docLink = document.createElement('div');\n",
              "          docLink.innerHTML = docLinkHtml;\n",
              "          element.appendChild(docLink);\n",
              "        }\n",
              "      </script>\n",
              "    </div>\n",
              "  </div>\n",
              "  "
            ],
            "text/plain": [
              "Empty DataFrame\n",
              "Columns: []\n",
              "Index: []"
            ]
          },
          "metadata": {},
          "execution_count": 35
        }
      ],
      "source": [
        "metadata.head()"
      ]
    },
    {
      "cell_type": "code",
      "execution_count": null,
      "metadata": {
        "hidden": true,
        "id": "ufZcH1AzwQ9w"
      },
      "outputs": [],
      "source": [
        "metadata.tail()"
      ]
    },
    {
      "cell_type": "code",
      "execution_count": null,
      "metadata": {
        "hidden": true,
        "id": "O_7maLbzwQ9y"
      },
      "outputs": [],
      "source": [
        "metadata.head()"
      ]
    },
    {
      "cell_type": "code",
      "execution_count": null,
      "metadata": {
        "hidden": true,
        "id": "BYQGgXUCwQ-X",
        "outputId": "7bf546e3-8054-4bfc-df9a-4fe5d31c6bc3",
        "colab": {
          "base_uri": "https://localhost:8080/"
        }
      },
      "outputs": [
        {
          "output_type": "execute_result",
          "data": {
            "text/plain": [
              "163"
            ]
          },
          "metadata": {},
          "execution_count": 40
        }
      ],
      "source": [
        "genres['title'].count()"
      ]
    },
    {
      "cell_type": "code",
      "execution_count": null,
      "metadata": {
        "hidden": true,
        "scrolled": true,
        "id": "CYyzk22dwQ-a"
      },
      "outputs": [],
      "source": [
        "genre_dummy = pd.DataFrame(data= np.zeros((13129, 163)), columns= list(genres['title'].unique()))"
      ]
    },
    {
      "cell_type": "code",
      "execution_count": null,
      "metadata": {
        "hidden": true,
        "id": "WQeQQTpFwQ-c",
        "outputId": "33cc6b8f-68c4-47dd-ed12-fde42631be72",
        "colab": {
          "base_uri": "https://localhost:8080/",
          "height": 305
        }
      },
      "outputs": [
        {
          "output_type": "execute_result",
          "data": {
            "text/html": [
              "\n",
              "  <div id=\"df-f2a6067b-4979-4f44-8eec-4377a0678a6c\">\n",
              "    <div class=\"colab-df-container\">\n",
              "      <div>\n",
              "<style scoped>\n",
              "    .dataframe tbody tr th:only-of-type {\n",
              "        vertical-align: middle;\n",
              "    }\n",
              "\n",
              "    .dataframe tbody tr th {\n",
              "        vertical-align: top;\n",
              "    }\n",
              "\n",
              "    .dataframe thead th {\n",
              "        text-align: right;\n",
              "    }\n",
              "</style>\n",
              "<table border=\"1\" class=\"dataframe\">\n",
              "  <thead>\n",
              "    <tr style=\"text-align: right;\">\n",
              "      <th></th>\n",
              "      <th>Avant-Garde</th>\n",
              "      <th>International</th>\n",
              "      <th>Blues</th>\n",
              "      <th>Jazz</th>\n",
              "      <th>Classical</th>\n",
              "      <th>Novelty</th>\n",
              "      <th>Comedy</th>\n",
              "      <th>Old-Time / Historic</th>\n",
              "      <th>Country</th>\n",
              "      <th>Pop</th>\n",
              "      <th>Disco</th>\n",
              "      <th>Rock</th>\n",
              "      <th>Easy Listening</th>\n",
              "      <th>Soul-RnB</th>\n",
              "      <th>Electronic</th>\n",
              "      <th>Sound Effects</th>\n",
              "      <th>Folk</th>\n",
              "      <th>Soundtrack</th>\n",
              "      <th>Funk</th>\n",
              "      <th>Spoken</th>\n",
              "      <th>Hip-Hop</th>\n",
              "      <th>Audio Collage</th>\n",
              "      <th>Punk</th>\n",
              "      <th>Post-Rock</th>\n",
              "      <th>Lo-Fi</th>\n",
              "      <th>Field Recordings</th>\n",
              "      <th>Metal</th>\n",
              "      <th>Noise</th>\n",
              "      <th>Psych-Folk</th>\n",
              "      <th>Krautrock</th>\n",
              "      <th>Jazz: Vocal</th>\n",
              "      <th>Experimental</th>\n",
              "      <th>Electroacoustic</th>\n",
              "      <th>Ambient Electronic</th>\n",
              "      <th>Radio Art</th>\n",
              "      <th>Loud-Rock</th>\n",
              "      <th>Latin America</th>\n",
              "      <th>Drone</th>\n",
              "      <th>Free-Folk</th>\n",
              "      <th>Noise-Rock</th>\n",
              "      <th>Psych-Rock</th>\n",
              "      <th>Bluegrass</th>\n",
              "      <th>Electro-Punk</th>\n",
              "      <th>Radio</th>\n",
              "      <th>Indie-Rock</th>\n",
              "      <th>Industrial</th>\n",
              "      <th>No Wave</th>\n",
              "      <th>Free-Jazz</th>\n",
              "      <th>Experimental Pop</th>\n",
              "      <th>French</th>\n",
              "      <th>Reggae - Dub</th>\n",
              "      <th>Afrobeat</th>\n",
              "      <th>Nerdcore</th>\n",
              "      <th>Garage</th>\n",
              "      <th>Indian</th>\n",
              "      <th>New Wave</th>\n",
              "      <th>Post-Punk</th>\n",
              "      <th>Sludge</th>\n",
              "      <th>African</th>\n",
              "      <th>Freak-Folk</th>\n",
              "      <th>Jazz: Out</th>\n",
              "      <th>Progressive</th>\n",
              "      <th>Alternative Hip-Hop</th>\n",
              "      <th>Death-Metal</th>\n",
              "      <th>Middle East</th>\n",
              "      <th>Singer-Songwriter</th>\n",
              "      <th>Ambient</th>\n",
              "      <th>Hardcore</th>\n",
              "      <th>Power-Pop</th>\n",
              "      <th>Space-Rock</th>\n",
              "      <th>Polka</th>\n",
              "      <th>Balkan</th>\n",
              "      <th>Unclassifiable</th>\n",
              "      <th>Europe</th>\n",
              "      <th>Americana</th>\n",
              "      <th>Spoken Weird</th>\n",
              "      <th>Interview</th>\n",
              "      <th>Black-Metal</th>\n",
              "      <th>Rockabilly</th>\n",
              "      <th>Easy Listening: Vocal</th>\n",
              "      <th>Brazilian</th>\n",
              "      <th>Asia-Far East</th>\n",
              "      <th>N. Indian Traditional</th>\n",
              "      <th>South Indian Traditional</th>\n",
              "      <th>Bollywood</th>\n",
              "      <th>Pacific</th>\n",
              "      <th>Celtic</th>\n",
              "      <th>Be-Bop</th>\n",
              "      <th>Big Band/Swing</th>\n",
              "      <th>British Folk</th>\n",
              "      <th>Techno</th>\n",
              "      <th>House</th>\n",
              "      <th>Glitch</th>\n",
              "      <th>Minimal Electronic</th>\n",
              "      <th>Breakcore - Hard</th>\n",
              "      <th>Sound Poetry</th>\n",
              "      <th>20th Century Classical</th>\n",
              "      <th>Poetry</th>\n",
              "      <th>Talk Radio</th>\n",
              "      <th>North African</th>\n",
              "      <th>Sound Collage</th>\n",
              "      <th>Flamenco</th>\n",
              "      <th>IDM</th>\n",
              "      <th>Chiptune</th>\n",
              "      <th>Musique Concrete</th>\n",
              "      <th>Improv</th>\n",
              "      <th>New Age</th>\n",
              "      <th>Trip-Hop</th>\n",
              "      <th>Dance</th>\n",
              "      <th>Chip Music</th>\n",
              "      <th>Lounge</th>\n",
              "      <th>Goth</th>\n",
              "      <th>Composed Music</th>\n",
              "      <th>Drum &amp; Bass</th>\n",
              "      <th>Shoegaze</th>\n",
              "      <th>Kid-Friendly</th>\n",
              "      <th>Thrash</th>\n",
              "      <th>Synth Pop</th>\n",
              "      <th>Banter</th>\n",
              "      <th>Deep Funk</th>\n",
              "      <th>Spoken Word</th>\n",
              "      <th>Chill-out</th>\n",
              "      <th>Bigbeat</th>\n",
              "      <th>Surf</th>\n",
              "      <th>Radio Theater</th>\n",
              "      <th>Grindcore</th>\n",
              "      <th>Rock Opera</th>\n",
              "      <th>Opera</th>\n",
              "      <th>Chamber Music</th>\n",
              "      <th>Choral Music</th>\n",
              "      <th>Symphony</th>\n",
              "      <th>Minimalism</th>\n",
              "      <th>Musical Theater</th>\n",
              "      <th>Dubstep</th>\n",
              "      <th>Skweee</th>\n",
              "      <th>Western Swing</th>\n",
              "      <th>Downtempo</th>\n",
              "      <th>Cumbia</th>\n",
              "      <th>Latin</th>\n",
              "      <th>Sound Art</th>\n",
              "      <th>Romany (Gypsy)</th>\n",
              "      <th>Compilation</th>\n",
              "      <th>Rap</th>\n",
              "      <th>Breakbeat</th>\n",
              "      <th>Gospel</th>\n",
              "      <th>Abstract Hip-Hop</th>\n",
              "      <th>Reggae - Dancehall</th>\n",
              "      <th>Spanish</th>\n",
              "      <th>Country &amp; Western</th>\n",
              "      <th>Contemporary Classical</th>\n",
              "      <th>Wonky</th>\n",
              "      <th>Jungle</th>\n",
              "      <th>Klezmer</th>\n",
              "      <th>Holiday</th>\n",
              "      <th>Salsa</th>\n",
              "      <th>Nu-Jazz</th>\n",
              "      <th>Hip-Hop Beats</th>\n",
              "      <th>Modern Jazz</th>\n",
              "      <th>Turkish</th>\n",
              "      <th>Tango</th>\n",
              "      <th>Fado</th>\n",
              "      <th>Christmas</th>\n",
              "      <th>Instrumental</th>\n",
              "    </tr>\n",
              "  </thead>\n",
              "  <tbody>\n",
              "    <tr>\n",
              "      <th>0</th>\n",
              "      <td>0.0</td>\n",
              "      <td>0.0</td>\n",
              "      <td>0.0</td>\n",
              "      <td>0.0</td>\n",
              "      <td>0.0</td>\n",
              "      <td>0.0</td>\n",
              "      <td>0.0</td>\n",
              "      <td>0.0</td>\n",
              "      <td>0.0</td>\n",
              "      <td>0.0</td>\n",
              "      <td>0.0</td>\n",
              "      <td>0.0</td>\n",
              "      <td>0.0</td>\n",
              "      <td>0.0</td>\n",
              "      <td>0.0</td>\n",
              "      <td>0.0</td>\n",
              "      <td>0.0</td>\n",
              "      <td>0.0</td>\n",
              "      <td>0.0</td>\n",
              "      <td>0.0</td>\n",
              "      <td>0.0</td>\n",
              "      <td>0.0</td>\n",
              "      <td>0.0</td>\n",
              "      <td>0.0</td>\n",
              "      <td>0.0</td>\n",
              "      <td>0.0</td>\n",
              "      <td>0.0</td>\n",
              "      <td>0.0</td>\n",
              "      <td>0.0</td>\n",
              "      <td>0.0</td>\n",
              "      <td>0.0</td>\n",
              "      <td>0.0</td>\n",
              "      <td>0.0</td>\n",
              "      <td>0.0</td>\n",
              "      <td>0.0</td>\n",
              "      <td>0.0</td>\n",
              "      <td>0.0</td>\n",
              "      <td>0.0</td>\n",
              "      <td>0.0</td>\n",
              "      <td>0.0</td>\n",
              "      <td>0.0</td>\n",
              "      <td>0.0</td>\n",
              "      <td>0.0</td>\n",
              "      <td>0.0</td>\n",
              "      <td>0.0</td>\n",
              "      <td>0.0</td>\n",
              "      <td>0.0</td>\n",
              "      <td>0.0</td>\n",
              "      <td>0.0</td>\n",
              "      <td>0.0</td>\n",
              "      <td>0.0</td>\n",
              "      <td>0.0</td>\n",
              "      <td>0.0</td>\n",
              "      <td>0.0</td>\n",
              "      <td>0.0</td>\n",
              "      <td>0.0</td>\n",
              "      <td>0.0</td>\n",
              "      <td>0.0</td>\n",
              "      <td>0.0</td>\n",
              "      <td>0.0</td>\n",
              "      <td>0.0</td>\n",
              "      <td>0.0</td>\n",
              "      <td>0.0</td>\n",
              "      <td>0.0</td>\n",
              "      <td>0.0</td>\n",
              "      <td>0.0</td>\n",
              "      <td>0.0</td>\n",
              "      <td>0.0</td>\n",
              "      <td>0.0</td>\n",
              "      <td>0.0</td>\n",
              "      <td>0.0</td>\n",
              "      <td>0.0</td>\n",
              "      <td>0.0</td>\n",
              "      <td>0.0</td>\n",
              "      <td>0.0</td>\n",
              "      <td>0.0</td>\n",
              "      <td>0.0</td>\n",
              "      <td>0.0</td>\n",
              "      <td>0.0</td>\n",
              "      <td>0.0</td>\n",
              "      <td>0.0</td>\n",
              "      <td>0.0</td>\n",
              "      <td>0.0</td>\n",
              "      <td>0.0</td>\n",
              "      <td>0.0</td>\n",
              "      <td>0.0</td>\n",
              "      <td>0.0</td>\n",
              "      <td>0.0</td>\n",
              "      <td>0.0</td>\n",
              "      <td>0.0</td>\n",
              "      <td>0.0</td>\n",
              "      <td>0.0</td>\n",
              "      <td>0.0</td>\n",
              "      <td>0.0</td>\n",
              "      <td>0.0</td>\n",
              "      <td>0.0</td>\n",
              "      <td>0.0</td>\n",
              "      <td>0.0</td>\n",
              "      <td>0.0</td>\n",
              "      <td>0.0</td>\n",
              "      <td>0.0</td>\n",
              "      <td>0.0</td>\n",
              "      <td>0.0</td>\n",
              "      <td>0.0</td>\n",
              "      <td>0.0</td>\n",
              "      <td>0.0</td>\n",
              "      <td>0.0</td>\n",
              "      <td>0.0</td>\n",
              "      <td>0.0</td>\n",
              "      <td>0.0</td>\n",
              "      <td>0.0</td>\n",
              "      <td>0.0</td>\n",
              "      <td>0.0</td>\n",
              "      <td>0.0</td>\n",
              "      <td>0.0</td>\n",
              "      <td>0.0</td>\n",
              "      <td>0.0</td>\n",
              "      <td>0.0</td>\n",
              "      <td>0.0</td>\n",
              "      <td>0.0</td>\n",
              "      <td>0.0</td>\n",
              "      <td>0.0</td>\n",
              "      <td>0.0</td>\n",
              "      <td>0.0</td>\n",
              "      <td>0.0</td>\n",
              "      <td>0.0</td>\n",
              "      <td>0.0</td>\n",
              "      <td>0.0</td>\n",
              "      <td>0.0</td>\n",
              "      <td>0.0</td>\n",
              "      <td>0.0</td>\n",
              "      <td>0.0</td>\n",
              "      <td>0.0</td>\n",
              "      <td>0.0</td>\n",
              "      <td>0.0</td>\n",
              "      <td>0.0</td>\n",
              "      <td>0.0</td>\n",
              "      <td>0.0</td>\n",
              "      <td>0.0</td>\n",
              "      <td>0.0</td>\n",
              "      <td>0.0</td>\n",
              "      <td>0.0</td>\n",
              "      <td>0.0</td>\n",
              "      <td>0.0</td>\n",
              "      <td>0.0</td>\n",
              "      <td>0.0</td>\n",
              "      <td>0.0</td>\n",
              "      <td>0.0</td>\n",
              "      <td>0.0</td>\n",
              "      <td>0.0</td>\n",
              "      <td>0.0</td>\n",
              "      <td>0.0</td>\n",
              "      <td>0.0</td>\n",
              "      <td>0.0</td>\n",
              "      <td>0.0</td>\n",
              "      <td>0.0</td>\n",
              "      <td>0.0</td>\n",
              "      <td>0.0</td>\n",
              "      <td>0.0</td>\n",
              "      <td>0.0</td>\n",
              "      <td>0.0</td>\n",
              "      <td>0.0</td>\n",
              "      <td>0.0</td>\n",
              "    </tr>\n",
              "    <tr>\n",
              "      <th>1</th>\n",
              "      <td>0.0</td>\n",
              "      <td>0.0</td>\n",
              "      <td>0.0</td>\n",
              "      <td>0.0</td>\n",
              "      <td>0.0</td>\n",
              "      <td>0.0</td>\n",
              "      <td>0.0</td>\n",
              "      <td>0.0</td>\n",
              "      <td>0.0</td>\n",
              "      <td>0.0</td>\n",
              "      <td>0.0</td>\n",
              "      <td>0.0</td>\n",
              "      <td>0.0</td>\n",
              "      <td>0.0</td>\n",
              "      <td>0.0</td>\n",
              "      <td>0.0</td>\n",
              "      <td>0.0</td>\n",
              "      <td>0.0</td>\n",
              "      <td>0.0</td>\n",
              "      <td>0.0</td>\n",
              "      <td>0.0</td>\n",
              "      <td>0.0</td>\n",
              "      <td>0.0</td>\n",
              "      <td>0.0</td>\n",
              "      <td>0.0</td>\n",
              "      <td>0.0</td>\n",
              "      <td>0.0</td>\n",
              "      <td>0.0</td>\n",
              "      <td>0.0</td>\n",
              "      <td>0.0</td>\n",
              "      <td>0.0</td>\n",
              "      <td>0.0</td>\n",
              "      <td>0.0</td>\n",
              "      <td>0.0</td>\n",
              "      <td>0.0</td>\n",
              "      <td>0.0</td>\n",
              "      <td>0.0</td>\n",
              "      <td>0.0</td>\n",
              "      <td>0.0</td>\n",
              "      <td>0.0</td>\n",
              "      <td>0.0</td>\n",
              "      <td>0.0</td>\n",
              "      <td>0.0</td>\n",
              "      <td>0.0</td>\n",
              "      <td>0.0</td>\n",
              "      <td>0.0</td>\n",
              "      <td>0.0</td>\n",
              "      <td>0.0</td>\n",
              "      <td>0.0</td>\n",
              "      <td>0.0</td>\n",
              "      <td>0.0</td>\n",
              "      <td>0.0</td>\n",
              "      <td>0.0</td>\n",
              "      <td>0.0</td>\n",
              "      <td>0.0</td>\n",
              "      <td>0.0</td>\n",
              "      <td>0.0</td>\n",
              "      <td>0.0</td>\n",
              "      <td>0.0</td>\n",
              "      <td>0.0</td>\n",
              "      <td>0.0</td>\n",
              "      <td>0.0</td>\n",
              "      <td>0.0</td>\n",
              "      <td>0.0</td>\n",
              "      <td>0.0</td>\n",
              "      <td>0.0</td>\n",
              "      <td>0.0</td>\n",
              "      <td>0.0</td>\n",
              "      <td>0.0</td>\n",
              "      <td>0.0</td>\n",
              "      <td>0.0</td>\n",
              "      <td>0.0</td>\n",
              "      <td>0.0</td>\n",
              "      <td>0.0</td>\n",
              "      <td>0.0</td>\n",
              "      <td>0.0</td>\n",
              "      <td>0.0</td>\n",
              "      <td>0.0</td>\n",
              "      <td>0.0</td>\n",
              "      <td>0.0</td>\n",
              "      <td>0.0</td>\n",
              "      <td>0.0</td>\n",
              "      <td>0.0</td>\n",
              "      <td>0.0</td>\n",
              "      <td>0.0</td>\n",
              "      <td>0.0</td>\n",
              "      <td>0.0</td>\n",
              "      <td>0.0</td>\n",
              "      <td>0.0</td>\n",
              "      <td>0.0</td>\n",
              "      <td>0.0</td>\n",
              "      <td>0.0</td>\n",
              "      <td>0.0</td>\n",
              "      <td>0.0</td>\n",
              "      <td>0.0</td>\n",
              "      <td>0.0</td>\n",
              "      <td>0.0</td>\n",
              "      <td>0.0</td>\n",
              "      <td>0.0</td>\n",
              "      <td>0.0</td>\n",
              "      <td>0.0</td>\n",
              "      <td>0.0</td>\n",
              "      <td>0.0</td>\n",
              "      <td>0.0</td>\n",
              "      <td>0.0</td>\n",
              "      <td>0.0</td>\n",
              "      <td>0.0</td>\n",
              "      <td>0.0</td>\n",
              "      <td>0.0</td>\n",
              "      <td>0.0</td>\n",
              "      <td>0.0</td>\n",
              "      <td>0.0</td>\n",
              "      <td>0.0</td>\n",
              "      <td>0.0</td>\n",
              "      <td>0.0</td>\n",
              "      <td>0.0</td>\n",
              "      <td>0.0</td>\n",
              "      <td>0.0</td>\n",
              "      <td>0.0</td>\n",
              "      <td>0.0</td>\n",
              "      <td>0.0</td>\n",
              "      <td>0.0</td>\n",
              "      <td>0.0</td>\n",
              "      <td>0.0</td>\n",
              "      <td>0.0</td>\n",
              "      <td>0.0</td>\n",
              "      <td>0.0</td>\n",
              "      <td>0.0</td>\n",
              "      <td>0.0</td>\n",
              "      <td>0.0</td>\n",
              "      <td>0.0</td>\n",
              "      <td>0.0</td>\n",
              "      <td>0.0</td>\n",
              "      <td>0.0</td>\n",
              "      <td>0.0</td>\n",
              "      <td>0.0</td>\n",
              "      <td>0.0</td>\n",
              "      <td>0.0</td>\n",
              "      <td>0.0</td>\n",
              "      <td>0.0</td>\n",
              "      <td>0.0</td>\n",
              "      <td>0.0</td>\n",
              "      <td>0.0</td>\n",
              "      <td>0.0</td>\n",
              "      <td>0.0</td>\n",
              "      <td>0.0</td>\n",
              "      <td>0.0</td>\n",
              "      <td>0.0</td>\n",
              "      <td>0.0</td>\n",
              "      <td>0.0</td>\n",
              "      <td>0.0</td>\n",
              "      <td>0.0</td>\n",
              "      <td>0.0</td>\n",
              "      <td>0.0</td>\n",
              "      <td>0.0</td>\n",
              "      <td>0.0</td>\n",
              "      <td>0.0</td>\n",
              "      <td>0.0</td>\n",
              "      <td>0.0</td>\n",
              "      <td>0.0</td>\n",
              "      <td>0.0</td>\n",
              "      <td>0.0</td>\n",
              "      <td>0.0</td>\n",
              "    </tr>\n",
              "    <tr>\n",
              "      <th>2</th>\n",
              "      <td>0.0</td>\n",
              "      <td>0.0</td>\n",
              "      <td>0.0</td>\n",
              "      <td>0.0</td>\n",
              "      <td>0.0</td>\n",
              "      <td>0.0</td>\n",
              "      <td>0.0</td>\n",
              "      <td>0.0</td>\n",
              "      <td>0.0</td>\n",
              "      <td>0.0</td>\n",
              "      <td>0.0</td>\n",
              "      <td>0.0</td>\n",
              "      <td>0.0</td>\n",
              "      <td>0.0</td>\n",
              "      <td>0.0</td>\n",
              "      <td>0.0</td>\n",
              "      <td>0.0</td>\n",
              "      <td>0.0</td>\n",
              "      <td>0.0</td>\n",
              "      <td>0.0</td>\n",
              "      <td>0.0</td>\n",
              "      <td>0.0</td>\n",
              "      <td>0.0</td>\n",
              "      <td>0.0</td>\n",
              "      <td>0.0</td>\n",
              "      <td>0.0</td>\n",
              "      <td>0.0</td>\n",
              "      <td>0.0</td>\n",
              "      <td>0.0</td>\n",
              "      <td>0.0</td>\n",
              "      <td>0.0</td>\n",
              "      <td>0.0</td>\n",
              "      <td>0.0</td>\n",
              "      <td>0.0</td>\n",
              "      <td>0.0</td>\n",
              "      <td>0.0</td>\n",
              "      <td>0.0</td>\n",
              "      <td>0.0</td>\n",
              "      <td>0.0</td>\n",
              "      <td>0.0</td>\n",
              "      <td>0.0</td>\n",
              "      <td>0.0</td>\n",
              "      <td>0.0</td>\n",
              "      <td>0.0</td>\n",
              "      <td>0.0</td>\n",
              "      <td>0.0</td>\n",
              "      <td>0.0</td>\n",
              "      <td>0.0</td>\n",
              "      <td>0.0</td>\n",
              "      <td>0.0</td>\n",
              "      <td>0.0</td>\n",
              "      <td>0.0</td>\n",
              "      <td>0.0</td>\n",
              "      <td>0.0</td>\n",
              "      <td>0.0</td>\n",
              "      <td>0.0</td>\n",
              "      <td>0.0</td>\n",
              "      <td>0.0</td>\n",
              "      <td>0.0</td>\n",
              "      <td>0.0</td>\n",
              "      <td>0.0</td>\n",
              "      <td>0.0</td>\n",
              "      <td>0.0</td>\n",
              "      <td>0.0</td>\n",
              "      <td>0.0</td>\n",
              "      <td>0.0</td>\n",
              "      <td>0.0</td>\n",
              "      <td>0.0</td>\n",
              "      <td>0.0</td>\n",
              "      <td>0.0</td>\n",
              "      <td>0.0</td>\n",
              "      <td>0.0</td>\n",
              "      <td>0.0</td>\n",
              "      <td>0.0</td>\n",
              "      <td>0.0</td>\n",
              "      <td>0.0</td>\n",
              "      <td>0.0</td>\n",
              "      <td>0.0</td>\n",
              "      <td>0.0</td>\n",
              "      <td>0.0</td>\n",
              "      <td>0.0</td>\n",
              "      <td>0.0</td>\n",
              "      <td>0.0</td>\n",
              "      <td>0.0</td>\n",
              "      <td>0.0</td>\n",
              "      <td>0.0</td>\n",
              "      <td>0.0</td>\n",
              "      <td>0.0</td>\n",
              "      <td>0.0</td>\n",
              "      <td>0.0</td>\n",
              "      <td>0.0</td>\n",
              "      <td>0.0</td>\n",
              "      <td>0.0</td>\n",
              "      <td>0.0</td>\n",
              "      <td>0.0</td>\n",
              "      <td>0.0</td>\n",
              "      <td>0.0</td>\n",
              "      <td>0.0</td>\n",
              "      <td>0.0</td>\n",
              "      <td>0.0</td>\n",
              "      <td>0.0</td>\n",
              "      <td>0.0</td>\n",
              "      <td>0.0</td>\n",
              "      <td>0.0</td>\n",
              "      <td>0.0</td>\n",
              "      <td>0.0</td>\n",
              "      <td>0.0</td>\n",
              "      <td>0.0</td>\n",
              "      <td>0.0</td>\n",
              "      <td>0.0</td>\n",
              "      <td>0.0</td>\n",
              "      <td>0.0</td>\n",
              "      <td>0.0</td>\n",
              "      <td>0.0</td>\n",
              "      <td>0.0</td>\n",
              "      <td>0.0</td>\n",
              "      <td>0.0</td>\n",
              "      <td>0.0</td>\n",
              "      <td>0.0</td>\n",
              "      <td>0.0</td>\n",
              "      <td>0.0</td>\n",
              "      <td>0.0</td>\n",
              "      <td>0.0</td>\n",
              "      <td>0.0</td>\n",
              "      <td>0.0</td>\n",
              "      <td>0.0</td>\n",
              "      <td>0.0</td>\n",
              "      <td>0.0</td>\n",
              "      <td>0.0</td>\n",
              "      <td>0.0</td>\n",
              "      <td>0.0</td>\n",
              "      <td>0.0</td>\n",
              "      <td>0.0</td>\n",
              "      <td>0.0</td>\n",
              "      <td>0.0</td>\n",
              "      <td>0.0</td>\n",
              "      <td>0.0</td>\n",
              "      <td>0.0</td>\n",
              "      <td>0.0</td>\n",
              "      <td>0.0</td>\n",
              "      <td>0.0</td>\n",
              "      <td>0.0</td>\n",
              "      <td>0.0</td>\n",
              "      <td>0.0</td>\n",
              "      <td>0.0</td>\n",
              "      <td>0.0</td>\n",
              "      <td>0.0</td>\n",
              "      <td>0.0</td>\n",
              "      <td>0.0</td>\n",
              "      <td>0.0</td>\n",
              "      <td>0.0</td>\n",
              "      <td>0.0</td>\n",
              "      <td>0.0</td>\n",
              "      <td>0.0</td>\n",
              "      <td>0.0</td>\n",
              "      <td>0.0</td>\n",
              "      <td>0.0</td>\n",
              "      <td>0.0</td>\n",
              "      <td>0.0</td>\n",
              "      <td>0.0</td>\n",
              "      <td>0.0</td>\n",
              "      <td>0.0</td>\n",
              "      <td>0.0</td>\n",
              "    </tr>\n",
              "    <tr>\n",
              "      <th>3</th>\n",
              "      <td>0.0</td>\n",
              "      <td>0.0</td>\n",
              "      <td>0.0</td>\n",
              "      <td>0.0</td>\n",
              "      <td>0.0</td>\n",
              "      <td>0.0</td>\n",
              "      <td>0.0</td>\n",
              "      <td>0.0</td>\n",
              "      <td>0.0</td>\n",
              "      <td>0.0</td>\n",
              "      <td>0.0</td>\n",
              "      <td>0.0</td>\n",
              "      <td>0.0</td>\n",
              "      <td>0.0</td>\n",
              "      <td>0.0</td>\n",
              "      <td>0.0</td>\n",
              "      <td>0.0</td>\n",
              "      <td>0.0</td>\n",
              "      <td>0.0</td>\n",
              "      <td>0.0</td>\n",
              "      <td>0.0</td>\n",
              "      <td>0.0</td>\n",
              "      <td>0.0</td>\n",
              "      <td>0.0</td>\n",
              "      <td>0.0</td>\n",
              "      <td>0.0</td>\n",
              "      <td>0.0</td>\n",
              "      <td>0.0</td>\n",
              "      <td>0.0</td>\n",
              "      <td>0.0</td>\n",
              "      <td>0.0</td>\n",
              "      <td>0.0</td>\n",
              "      <td>0.0</td>\n",
              "      <td>0.0</td>\n",
              "      <td>0.0</td>\n",
              "      <td>0.0</td>\n",
              "      <td>0.0</td>\n",
              "      <td>0.0</td>\n",
              "      <td>0.0</td>\n",
              "      <td>0.0</td>\n",
              "      <td>0.0</td>\n",
              "      <td>0.0</td>\n",
              "      <td>0.0</td>\n",
              "      <td>0.0</td>\n",
              "      <td>0.0</td>\n",
              "      <td>0.0</td>\n",
              "      <td>0.0</td>\n",
              "      <td>0.0</td>\n",
              "      <td>0.0</td>\n",
              "      <td>0.0</td>\n",
              "      <td>0.0</td>\n",
              "      <td>0.0</td>\n",
              "      <td>0.0</td>\n",
              "      <td>0.0</td>\n",
              "      <td>0.0</td>\n",
              "      <td>0.0</td>\n",
              "      <td>0.0</td>\n",
              "      <td>0.0</td>\n",
              "      <td>0.0</td>\n",
              "      <td>0.0</td>\n",
              "      <td>0.0</td>\n",
              "      <td>0.0</td>\n",
              "      <td>0.0</td>\n",
              "      <td>0.0</td>\n",
              "      <td>0.0</td>\n",
              "      <td>0.0</td>\n",
              "      <td>0.0</td>\n",
              "      <td>0.0</td>\n",
              "      <td>0.0</td>\n",
              "      <td>0.0</td>\n",
              "      <td>0.0</td>\n",
              "      <td>0.0</td>\n",
              "      <td>0.0</td>\n",
              "      <td>0.0</td>\n",
              "      <td>0.0</td>\n",
              "      <td>0.0</td>\n",
              "      <td>0.0</td>\n",
              "      <td>0.0</td>\n",
              "      <td>0.0</td>\n",
              "      <td>0.0</td>\n",
              "      <td>0.0</td>\n",
              "      <td>0.0</td>\n",
              "      <td>0.0</td>\n",
              "      <td>0.0</td>\n",
              "      <td>0.0</td>\n",
              "      <td>0.0</td>\n",
              "      <td>0.0</td>\n",
              "      <td>0.0</td>\n",
              "      <td>0.0</td>\n",
              "      <td>0.0</td>\n",
              "      <td>0.0</td>\n",
              "      <td>0.0</td>\n",
              "      <td>0.0</td>\n",
              "      <td>0.0</td>\n",
              "      <td>0.0</td>\n",
              "      <td>0.0</td>\n",
              "      <td>0.0</td>\n",
              "      <td>0.0</td>\n",
              "      <td>0.0</td>\n",
              "      <td>0.0</td>\n",
              "      <td>0.0</td>\n",
              "      <td>0.0</td>\n",
              "      <td>0.0</td>\n",
              "      <td>0.0</td>\n",
              "      <td>0.0</td>\n",
              "      <td>0.0</td>\n",
              "      <td>0.0</td>\n",
              "      <td>0.0</td>\n",
              "      <td>0.0</td>\n",
              "      <td>0.0</td>\n",
              "      <td>0.0</td>\n",
              "      <td>0.0</td>\n",
              "      <td>0.0</td>\n",
              "      <td>0.0</td>\n",
              "      <td>0.0</td>\n",
              "      <td>0.0</td>\n",
              "      <td>0.0</td>\n",
              "      <td>0.0</td>\n",
              "      <td>0.0</td>\n",
              "      <td>0.0</td>\n",
              "      <td>0.0</td>\n",
              "      <td>0.0</td>\n",
              "      <td>0.0</td>\n",
              "      <td>0.0</td>\n",
              "      <td>0.0</td>\n",
              "      <td>0.0</td>\n",
              "      <td>0.0</td>\n",
              "      <td>0.0</td>\n",
              "      <td>0.0</td>\n",
              "      <td>0.0</td>\n",
              "      <td>0.0</td>\n",
              "      <td>0.0</td>\n",
              "      <td>0.0</td>\n",
              "      <td>0.0</td>\n",
              "      <td>0.0</td>\n",
              "      <td>0.0</td>\n",
              "      <td>0.0</td>\n",
              "      <td>0.0</td>\n",
              "      <td>0.0</td>\n",
              "      <td>0.0</td>\n",
              "      <td>0.0</td>\n",
              "      <td>0.0</td>\n",
              "      <td>0.0</td>\n",
              "      <td>0.0</td>\n",
              "      <td>0.0</td>\n",
              "      <td>0.0</td>\n",
              "      <td>0.0</td>\n",
              "      <td>0.0</td>\n",
              "      <td>0.0</td>\n",
              "      <td>0.0</td>\n",
              "      <td>0.0</td>\n",
              "      <td>0.0</td>\n",
              "      <td>0.0</td>\n",
              "      <td>0.0</td>\n",
              "      <td>0.0</td>\n",
              "      <td>0.0</td>\n",
              "      <td>0.0</td>\n",
              "      <td>0.0</td>\n",
              "      <td>0.0</td>\n",
              "      <td>0.0</td>\n",
              "      <td>0.0</td>\n",
              "      <td>0.0</td>\n",
              "      <td>0.0</td>\n",
              "    </tr>\n",
              "    <tr>\n",
              "      <th>4</th>\n",
              "      <td>0.0</td>\n",
              "      <td>0.0</td>\n",
              "      <td>0.0</td>\n",
              "      <td>0.0</td>\n",
              "      <td>0.0</td>\n",
              "      <td>0.0</td>\n",
              "      <td>0.0</td>\n",
              "      <td>0.0</td>\n",
              "      <td>0.0</td>\n",
              "      <td>0.0</td>\n",
              "      <td>0.0</td>\n",
              "      <td>0.0</td>\n",
              "      <td>0.0</td>\n",
              "      <td>0.0</td>\n",
              "      <td>0.0</td>\n",
              "      <td>0.0</td>\n",
              "      <td>0.0</td>\n",
              "      <td>0.0</td>\n",
              "      <td>0.0</td>\n",
              "      <td>0.0</td>\n",
              "      <td>0.0</td>\n",
              "      <td>0.0</td>\n",
              "      <td>0.0</td>\n",
              "      <td>0.0</td>\n",
              "      <td>0.0</td>\n",
              "      <td>0.0</td>\n",
              "      <td>0.0</td>\n",
              "      <td>0.0</td>\n",
              "      <td>0.0</td>\n",
              "      <td>0.0</td>\n",
              "      <td>0.0</td>\n",
              "      <td>0.0</td>\n",
              "      <td>0.0</td>\n",
              "      <td>0.0</td>\n",
              "      <td>0.0</td>\n",
              "      <td>0.0</td>\n",
              "      <td>0.0</td>\n",
              "      <td>0.0</td>\n",
              "      <td>0.0</td>\n",
              "      <td>0.0</td>\n",
              "      <td>0.0</td>\n",
              "      <td>0.0</td>\n",
              "      <td>0.0</td>\n",
              "      <td>0.0</td>\n",
              "      <td>0.0</td>\n",
              "      <td>0.0</td>\n",
              "      <td>0.0</td>\n",
              "      <td>0.0</td>\n",
              "      <td>0.0</td>\n",
              "      <td>0.0</td>\n",
              "      <td>0.0</td>\n",
              "      <td>0.0</td>\n",
              "      <td>0.0</td>\n",
              "      <td>0.0</td>\n",
              "      <td>0.0</td>\n",
              "      <td>0.0</td>\n",
              "      <td>0.0</td>\n",
              "      <td>0.0</td>\n",
              "      <td>0.0</td>\n",
              "      <td>0.0</td>\n",
              "      <td>0.0</td>\n",
              "      <td>0.0</td>\n",
              "      <td>0.0</td>\n",
              "      <td>0.0</td>\n",
              "      <td>0.0</td>\n",
              "      <td>0.0</td>\n",
              "      <td>0.0</td>\n",
              "      <td>0.0</td>\n",
              "      <td>0.0</td>\n",
              "      <td>0.0</td>\n",
              "      <td>0.0</td>\n",
              "      <td>0.0</td>\n",
              "      <td>0.0</td>\n",
              "      <td>0.0</td>\n",
              "      <td>0.0</td>\n",
              "      <td>0.0</td>\n",
              "      <td>0.0</td>\n",
              "      <td>0.0</td>\n",
              "      <td>0.0</td>\n",
              "      <td>0.0</td>\n",
              "      <td>0.0</td>\n",
              "      <td>0.0</td>\n",
              "      <td>0.0</td>\n",
              "      <td>0.0</td>\n",
              "      <td>0.0</td>\n",
              "      <td>0.0</td>\n",
              "      <td>0.0</td>\n",
              "      <td>0.0</td>\n",
              "      <td>0.0</td>\n",
              "      <td>0.0</td>\n",
              "      <td>0.0</td>\n",
              "      <td>0.0</td>\n",
              "      <td>0.0</td>\n",
              "      <td>0.0</td>\n",
              "      <td>0.0</td>\n",
              "      <td>0.0</td>\n",
              "      <td>0.0</td>\n",
              "      <td>0.0</td>\n",
              "      <td>0.0</td>\n",
              "      <td>0.0</td>\n",
              "      <td>0.0</td>\n",
              "      <td>0.0</td>\n",
              "      <td>0.0</td>\n",
              "      <td>0.0</td>\n",
              "      <td>0.0</td>\n",
              "      <td>0.0</td>\n",
              "      <td>0.0</td>\n",
              "      <td>0.0</td>\n",
              "      <td>0.0</td>\n",
              "      <td>0.0</td>\n",
              "      <td>0.0</td>\n",
              "      <td>0.0</td>\n",
              "      <td>0.0</td>\n",
              "      <td>0.0</td>\n",
              "      <td>0.0</td>\n",
              "      <td>0.0</td>\n",
              "      <td>0.0</td>\n",
              "      <td>0.0</td>\n",
              "      <td>0.0</td>\n",
              "      <td>0.0</td>\n",
              "      <td>0.0</td>\n",
              "      <td>0.0</td>\n",
              "      <td>0.0</td>\n",
              "      <td>0.0</td>\n",
              "      <td>0.0</td>\n",
              "      <td>0.0</td>\n",
              "      <td>0.0</td>\n",
              "      <td>0.0</td>\n",
              "      <td>0.0</td>\n",
              "      <td>0.0</td>\n",
              "      <td>0.0</td>\n",
              "      <td>0.0</td>\n",
              "      <td>0.0</td>\n",
              "      <td>0.0</td>\n",
              "      <td>0.0</td>\n",
              "      <td>0.0</td>\n",
              "      <td>0.0</td>\n",
              "      <td>0.0</td>\n",
              "      <td>0.0</td>\n",
              "      <td>0.0</td>\n",
              "      <td>0.0</td>\n",
              "      <td>0.0</td>\n",
              "      <td>0.0</td>\n",
              "      <td>0.0</td>\n",
              "      <td>0.0</td>\n",
              "      <td>0.0</td>\n",
              "      <td>0.0</td>\n",
              "      <td>0.0</td>\n",
              "      <td>0.0</td>\n",
              "      <td>0.0</td>\n",
              "      <td>0.0</td>\n",
              "      <td>0.0</td>\n",
              "      <td>0.0</td>\n",
              "      <td>0.0</td>\n",
              "      <td>0.0</td>\n",
              "      <td>0.0</td>\n",
              "      <td>0.0</td>\n",
              "      <td>0.0</td>\n",
              "      <td>0.0</td>\n",
              "      <td>0.0</td>\n",
              "      <td>0.0</td>\n",
              "      <td>0.0</td>\n",
              "      <td>0.0</td>\n",
              "    </tr>\n",
              "  </tbody>\n",
              "</table>\n",
              "</div>\n",
              "      <button class=\"colab-df-convert\" onclick=\"convertToInteractive('df-f2a6067b-4979-4f44-8eec-4377a0678a6c')\"\n",
              "              title=\"Convert this dataframe to an interactive table.\"\n",
              "              style=\"display:none;\">\n",
              "        \n",
              "  <svg xmlns=\"http://www.w3.org/2000/svg\" height=\"24px\"viewBox=\"0 0 24 24\"\n",
              "       width=\"24px\">\n",
              "    <path d=\"M0 0h24v24H0V0z\" fill=\"none\"/>\n",
              "    <path d=\"M18.56 5.44l.94 2.06.94-2.06 2.06-.94-2.06-.94-.94-2.06-.94 2.06-2.06.94zm-11 1L8.5 8.5l.94-2.06 2.06-.94-2.06-.94L8.5 2.5l-.94 2.06-2.06.94zm10 10l.94 2.06.94-2.06 2.06-.94-2.06-.94-.94-2.06-.94 2.06-2.06.94z\"/><path d=\"M17.41 7.96l-1.37-1.37c-.4-.4-.92-.59-1.43-.59-.52 0-1.04.2-1.43.59L10.3 9.45l-7.72 7.72c-.78.78-.78 2.05 0 2.83L4 21.41c.39.39.9.59 1.41.59.51 0 1.02-.2 1.41-.59l7.78-7.78 2.81-2.81c.8-.78.8-2.07 0-2.86zM5.41 20L4 18.59l7.72-7.72 1.47 1.35L5.41 20z\"/>\n",
              "  </svg>\n",
              "      </button>\n",
              "      \n",
              "  <style>\n",
              "    .colab-df-container {\n",
              "      display:flex;\n",
              "      flex-wrap:wrap;\n",
              "      gap: 12px;\n",
              "    }\n",
              "\n",
              "    .colab-df-convert {\n",
              "      background-color: #E8F0FE;\n",
              "      border: none;\n",
              "      border-radius: 50%;\n",
              "      cursor: pointer;\n",
              "      display: none;\n",
              "      fill: #1967D2;\n",
              "      height: 32px;\n",
              "      padding: 0 0 0 0;\n",
              "      width: 32px;\n",
              "    }\n",
              "\n",
              "    .colab-df-convert:hover {\n",
              "      background-color: #E2EBFA;\n",
              "      box-shadow: 0px 1px 2px rgba(60, 64, 67, 0.3), 0px 1px 3px 1px rgba(60, 64, 67, 0.15);\n",
              "      fill: #174EA6;\n",
              "    }\n",
              "\n",
              "    [theme=dark] .colab-df-convert {\n",
              "      background-color: #3B4455;\n",
              "      fill: #D2E3FC;\n",
              "    }\n",
              "\n",
              "    [theme=dark] .colab-df-convert:hover {\n",
              "      background-color: #434B5C;\n",
              "      box-shadow: 0px 1px 3px 1px rgba(0, 0, 0, 0.15);\n",
              "      filter: drop-shadow(0px 1px 2px rgba(0, 0, 0, 0.3));\n",
              "      fill: #FFFFFF;\n",
              "    }\n",
              "  </style>\n",
              "\n",
              "      <script>\n",
              "        const buttonEl =\n",
              "          document.querySelector('#df-f2a6067b-4979-4f44-8eec-4377a0678a6c button.colab-df-convert');\n",
              "        buttonEl.style.display =\n",
              "          google.colab.kernel.accessAllowed ? 'block' : 'none';\n",
              "\n",
              "        async function convertToInteractive(key) {\n",
              "          const element = document.querySelector('#df-f2a6067b-4979-4f44-8eec-4377a0678a6c');\n",
              "          const dataTable =\n",
              "            await google.colab.kernel.invokeFunction('convertToInteractive',\n",
              "                                                     [key], {});\n",
              "          if (!dataTable) return;\n",
              "\n",
              "          const docLinkHtml = 'Like what you see? Visit the ' +\n",
              "            '<a target=\"_blank\" href=https://colab.research.google.com/notebooks/data_table.ipynb>data table notebook</a>'\n",
              "            + ' to learn more about interactive tables.';\n",
              "          element.innerHTML = '';\n",
              "          dataTable['output_type'] = 'display_data';\n",
              "          await google.colab.output.renderOutput(dataTable, element);\n",
              "          const docLink = document.createElement('div');\n",
              "          docLink.innerHTML = docLinkHtml;\n",
              "          element.appendChild(docLink);\n",
              "        }\n",
              "      </script>\n",
              "    </div>\n",
              "  </div>\n",
              "  "
            ],
            "text/plain": [
              "   Avant-Garde  International  Blues  Jazz  Classical  Novelty  Comedy  \\\n",
              "0          0.0            0.0    0.0   0.0        0.0      0.0     0.0   \n",
              "1          0.0            0.0    0.0   0.0        0.0      0.0     0.0   \n",
              "2          0.0            0.0    0.0   0.0        0.0      0.0     0.0   \n",
              "3          0.0            0.0    0.0   0.0        0.0      0.0     0.0   \n",
              "4          0.0            0.0    0.0   0.0        0.0      0.0     0.0   \n",
              "\n",
              "   Old-Time / Historic  Country  Pop  Disco  Rock  Easy Listening  Soul-RnB  \\\n",
              "0                  0.0      0.0  0.0    0.0   0.0             0.0       0.0   \n",
              "1                  0.0      0.0  0.0    0.0   0.0             0.0       0.0   \n",
              "2                  0.0      0.0  0.0    0.0   0.0             0.0       0.0   \n",
              "3                  0.0      0.0  0.0    0.0   0.0             0.0       0.0   \n",
              "4                  0.0      0.0  0.0    0.0   0.0             0.0       0.0   \n",
              "\n",
              "   Electronic  Sound Effects  Folk  Soundtrack  Funk  Spoken  Hip-Hop  \\\n",
              "0         0.0            0.0   0.0         0.0   0.0     0.0      0.0   \n",
              "1         0.0            0.0   0.0         0.0   0.0     0.0      0.0   \n",
              "2         0.0            0.0   0.0         0.0   0.0     0.0      0.0   \n",
              "3         0.0            0.0   0.0         0.0   0.0     0.0      0.0   \n",
              "4         0.0            0.0   0.0         0.0   0.0     0.0      0.0   \n",
              "\n",
              "   Audio Collage  Punk  Post-Rock  Lo-Fi  Field Recordings  Metal  Noise  \\\n",
              "0            0.0   0.0        0.0    0.0               0.0    0.0    0.0   \n",
              "1            0.0   0.0        0.0    0.0               0.0    0.0    0.0   \n",
              "2            0.0   0.0        0.0    0.0               0.0    0.0    0.0   \n",
              "3            0.0   0.0        0.0    0.0               0.0    0.0    0.0   \n",
              "4            0.0   0.0        0.0    0.0               0.0    0.0    0.0   \n",
              "\n",
              "   Psych-Folk  Krautrock  Jazz: Vocal  Experimental  Electroacoustic  \\\n",
              "0         0.0        0.0          0.0           0.0              0.0   \n",
              "1         0.0        0.0          0.0           0.0              0.0   \n",
              "2         0.0        0.0          0.0           0.0              0.0   \n",
              "3         0.0        0.0          0.0           0.0              0.0   \n",
              "4         0.0        0.0          0.0           0.0              0.0   \n",
              "\n",
              "   Ambient Electronic  Radio Art  Loud-Rock  Latin America  Drone  Free-Folk  \\\n",
              "0                 0.0        0.0        0.0            0.0    0.0        0.0   \n",
              "1                 0.0        0.0        0.0            0.0    0.0        0.0   \n",
              "2                 0.0        0.0        0.0            0.0    0.0        0.0   \n",
              "3                 0.0        0.0        0.0            0.0    0.0        0.0   \n",
              "4                 0.0        0.0        0.0            0.0    0.0        0.0   \n",
              "\n",
              "   Noise-Rock  Psych-Rock  Bluegrass  Electro-Punk  Radio  Indie-Rock  \\\n",
              "0         0.0         0.0        0.0           0.0    0.0         0.0   \n",
              "1         0.0         0.0        0.0           0.0    0.0         0.0   \n",
              "2         0.0         0.0        0.0           0.0    0.0         0.0   \n",
              "3         0.0         0.0        0.0           0.0    0.0         0.0   \n",
              "4         0.0         0.0        0.0           0.0    0.0         0.0   \n",
              "\n",
              "   Industrial  No Wave  Free-Jazz  Experimental Pop  French  Reggae - Dub  \\\n",
              "0         0.0      0.0        0.0               0.0     0.0           0.0   \n",
              "1         0.0      0.0        0.0               0.0     0.0           0.0   \n",
              "2         0.0      0.0        0.0               0.0     0.0           0.0   \n",
              "3         0.0      0.0        0.0               0.0     0.0           0.0   \n",
              "4         0.0      0.0        0.0               0.0     0.0           0.0   \n",
              "\n",
              "   Afrobeat  Nerdcore  Garage  Indian  New Wave  Post-Punk  Sludge  African  \\\n",
              "0       0.0       0.0     0.0     0.0       0.0        0.0     0.0      0.0   \n",
              "1       0.0       0.0     0.0     0.0       0.0        0.0     0.0      0.0   \n",
              "2       0.0       0.0     0.0     0.0       0.0        0.0     0.0      0.0   \n",
              "3       0.0       0.0     0.0     0.0       0.0        0.0     0.0      0.0   \n",
              "4       0.0       0.0     0.0     0.0       0.0        0.0     0.0      0.0   \n",
              "\n",
              "   Freak-Folk  Jazz: Out  Progressive  Alternative Hip-Hop  Death-Metal  \\\n",
              "0         0.0        0.0          0.0                  0.0          0.0   \n",
              "1         0.0        0.0          0.0                  0.0          0.0   \n",
              "2         0.0        0.0          0.0                  0.0          0.0   \n",
              "3         0.0        0.0          0.0                  0.0          0.0   \n",
              "4         0.0        0.0          0.0                  0.0          0.0   \n",
              "\n",
              "   Middle East  Singer-Songwriter  Ambient  Hardcore  Power-Pop  Space-Rock  \\\n",
              "0          0.0                0.0      0.0       0.0        0.0         0.0   \n",
              "1          0.0                0.0      0.0       0.0        0.0         0.0   \n",
              "2          0.0                0.0      0.0       0.0        0.0         0.0   \n",
              "3          0.0                0.0      0.0       0.0        0.0         0.0   \n",
              "4          0.0                0.0      0.0       0.0        0.0         0.0   \n",
              "\n",
              "   Polka  Balkan  Unclassifiable  Europe  Americana  Spoken Weird  Interview  \\\n",
              "0    0.0     0.0             0.0     0.0        0.0           0.0        0.0   \n",
              "1    0.0     0.0             0.0     0.0        0.0           0.0        0.0   \n",
              "2    0.0     0.0             0.0     0.0        0.0           0.0        0.0   \n",
              "3    0.0     0.0             0.0     0.0        0.0           0.0        0.0   \n",
              "4    0.0     0.0             0.0     0.0        0.0           0.0        0.0   \n",
              "\n",
              "   Black-Metal  Rockabilly  Easy Listening: Vocal  Brazilian  Asia-Far East  \\\n",
              "0          0.0         0.0                    0.0        0.0            0.0   \n",
              "1          0.0         0.0                    0.0        0.0            0.0   \n",
              "2          0.0         0.0                    0.0        0.0            0.0   \n",
              "3          0.0         0.0                    0.0        0.0            0.0   \n",
              "4          0.0         0.0                    0.0        0.0            0.0   \n",
              "\n",
              "   N. Indian Traditional  South Indian Traditional  Bollywood  Pacific  \\\n",
              "0                    0.0                       0.0        0.0      0.0   \n",
              "1                    0.0                       0.0        0.0      0.0   \n",
              "2                    0.0                       0.0        0.0      0.0   \n",
              "3                    0.0                       0.0        0.0      0.0   \n",
              "4                    0.0                       0.0        0.0      0.0   \n",
              "\n",
              "   Celtic  Be-Bop  Big Band/Swing  British Folk  Techno  House  Glitch  \\\n",
              "0     0.0     0.0             0.0           0.0     0.0    0.0     0.0   \n",
              "1     0.0     0.0             0.0           0.0     0.0    0.0     0.0   \n",
              "2     0.0     0.0             0.0           0.0     0.0    0.0     0.0   \n",
              "3     0.0     0.0             0.0           0.0     0.0    0.0     0.0   \n",
              "4     0.0     0.0             0.0           0.0     0.0    0.0     0.0   \n",
              "\n",
              "   Minimal Electronic  Breakcore - Hard  Sound Poetry  20th Century Classical  \\\n",
              "0                 0.0               0.0           0.0                     0.0   \n",
              "1                 0.0               0.0           0.0                     0.0   \n",
              "2                 0.0               0.0           0.0                     0.0   \n",
              "3                 0.0               0.0           0.0                     0.0   \n",
              "4                 0.0               0.0           0.0                     0.0   \n",
              "\n",
              "   Poetry  Talk Radio  North African  Sound Collage  Flamenco  IDM  Chiptune  \\\n",
              "0     0.0         0.0            0.0            0.0       0.0  0.0       0.0   \n",
              "1     0.0         0.0            0.0            0.0       0.0  0.0       0.0   \n",
              "2     0.0         0.0            0.0            0.0       0.0  0.0       0.0   \n",
              "3     0.0         0.0            0.0            0.0       0.0  0.0       0.0   \n",
              "4     0.0         0.0            0.0            0.0       0.0  0.0       0.0   \n",
              "\n",
              "   Musique Concrete  Improv  New Age  Trip-Hop  Dance  Chip Music  Lounge  \\\n",
              "0               0.0     0.0      0.0       0.0    0.0         0.0     0.0   \n",
              "1               0.0     0.0      0.0       0.0    0.0         0.0     0.0   \n",
              "2               0.0     0.0      0.0       0.0    0.0         0.0     0.0   \n",
              "3               0.0     0.0      0.0       0.0    0.0         0.0     0.0   \n",
              "4               0.0     0.0      0.0       0.0    0.0         0.0     0.0   \n",
              "\n",
              "   Goth  Composed Music  Drum & Bass  Shoegaze  Kid-Friendly  Thrash  \\\n",
              "0   0.0             0.0          0.0       0.0           0.0     0.0   \n",
              "1   0.0             0.0          0.0       0.0           0.0     0.0   \n",
              "2   0.0             0.0          0.0       0.0           0.0     0.0   \n",
              "3   0.0             0.0          0.0       0.0           0.0     0.0   \n",
              "4   0.0             0.0          0.0       0.0           0.0     0.0   \n",
              "\n",
              "   Synth Pop  Banter  Deep Funk  Spoken Word  Chill-out  Bigbeat  Surf  \\\n",
              "0        0.0     0.0        0.0          0.0        0.0      0.0   0.0   \n",
              "1        0.0     0.0        0.0          0.0        0.0      0.0   0.0   \n",
              "2        0.0     0.0        0.0          0.0        0.0      0.0   0.0   \n",
              "3        0.0     0.0        0.0          0.0        0.0      0.0   0.0   \n",
              "4        0.0     0.0        0.0          0.0        0.0      0.0   0.0   \n",
              "\n",
              "   Radio Theater  Grindcore  Rock Opera  Opera  Chamber Music  Choral Music  \\\n",
              "0            0.0        0.0         0.0    0.0            0.0           0.0   \n",
              "1            0.0        0.0         0.0    0.0            0.0           0.0   \n",
              "2            0.0        0.0         0.0    0.0            0.0           0.0   \n",
              "3            0.0        0.0         0.0    0.0            0.0           0.0   \n",
              "4            0.0        0.0         0.0    0.0            0.0           0.0   \n",
              "\n",
              "   Symphony  Minimalism  Musical Theater  Dubstep  Skweee  Western Swing  \\\n",
              "0       0.0         0.0              0.0      0.0     0.0            0.0   \n",
              "1       0.0         0.0              0.0      0.0     0.0            0.0   \n",
              "2       0.0         0.0              0.0      0.0     0.0            0.0   \n",
              "3       0.0         0.0              0.0      0.0     0.0            0.0   \n",
              "4       0.0         0.0              0.0      0.0     0.0            0.0   \n",
              "\n",
              "   Downtempo  Cumbia  Latin  Sound Art  Romany (Gypsy)  Compilation  Rap  \\\n",
              "0        0.0     0.0    0.0        0.0             0.0          0.0  0.0   \n",
              "1        0.0     0.0    0.0        0.0             0.0          0.0  0.0   \n",
              "2        0.0     0.0    0.0        0.0             0.0          0.0  0.0   \n",
              "3        0.0     0.0    0.0        0.0             0.0          0.0  0.0   \n",
              "4        0.0     0.0    0.0        0.0             0.0          0.0  0.0   \n",
              "\n",
              "   Breakbeat  Gospel  Abstract Hip-Hop  Reggae - Dancehall  Spanish  \\\n",
              "0        0.0     0.0               0.0                 0.0      0.0   \n",
              "1        0.0     0.0               0.0                 0.0      0.0   \n",
              "2        0.0     0.0               0.0                 0.0      0.0   \n",
              "3        0.0     0.0               0.0                 0.0      0.0   \n",
              "4        0.0     0.0               0.0                 0.0      0.0   \n",
              "\n",
              "   Country & Western  Contemporary Classical  Wonky  Jungle  Klezmer  Holiday  \\\n",
              "0                0.0                     0.0    0.0     0.0      0.0      0.0   \n",
              "1                0.0                     0.0    0.0     0.0      0.0      0.0   \n",
              "2                0.0                     0.0    0.0     0.0      0.0      0.0   \n",
              "3                0.0                     0.0    0.0     0.0      0.0      0.0   \n",
              "4                0.0                     0.0    0.0     0.0      0.0      0.0   \n",
              "\n",
              "   Salsa  Nu-Jazz  Hip-Hop Beats  Modern Jazz  Turkish  Tango  Fado  \\\n",
              "0    0.0      0.0            0.0          0.0      0.0    0.0   0.0   \n",
              "1    0.0      0.0            0.0          0.0      0.0    0.0   0.0   \n",
              "2    0.0      0.0            0.0          0.0      0.0    0.0   0.0   \n",
              "3    0.0      0.0            0.0          0.0      0.0    0.0   0.0   \n",
              "4    0.0      0.0            0.0          0.0      0.0    0.0   0.0   \n",
              "\n",
              "   Christmas  Instrumental  \n",
              "0        0.0           0.0  \n",
              "1        0.0           0.0  \n",
              "2        0.0           0.0  \n",
              "3        0.0           0.0  \n",
              "4        0.0           0.0  "
            ]
          },
          "metadata": {},
          "execution_count": 42
        }
      ],
      "source": [
        "genre_dummy.head()"
      ]
    },
    {
      "cell_type": "code",
      "execution_count": null,
      "metadata": {
        "hidden": true,
        "id": "jaD2sHEewQ-f"
      },
      "outputs": [],
      "source": [
        "genre_list = pd.Series(data= genre_dummy.columns)"
      ]
    },
    {
      "cell_type": "code",
      "execution_count": null,
      "metadata": {
        "hidden": true,
        "id": "E8-FzmGYwQ-i"
      },
      "outputs": [],
      "source": [
        "genre_list = modifyString(genre_list, 163)"
      ]
    },
    {
      "cell_type": "code",
      "execution_count": null,
      "metadata": {
        "hidden": true,
        "id": "yj8MjSMnwQ-l"
      },
      "outputs": [],
      "source": [
        "genre_list = genre_list.apply(format_strings)"
      ]
    },
    {
      "cell_type": "code",
      "execution_count": null,
      "metadata": {
        "hidden": true,
        "id": "n6JMpnuxwQ-o"
      },
      "outputs": [],
      "source": [
        "genre_dummy.columns= genre_list"
      ]
    },
    {
      "cell_type": "code",
      "execution_count": null,
      "metadata": {
        "hidden": true,
        "id": "Lx89DNvOwQ-q"
      },
      "outputs": [],
      "source": [
        "# columns converted successfully"
      ]
    },
    {
      "cell_type": "code",
      "execution_count": null,
      "metadata": {
        "hidden": true,
        "id": "38fCqxOjwQ-s"
      },
      "outputs": [],
      "source": [
        "genre_list = list(genre_list)"
      ]
    },
    {
      "cell_type": "markdown",
      "metadata": {
        "id": "IEqYRY5lwQ--"
      },
      "source": [
        "### Writing final data to .csv files"
      ]
    },
    {
      "cell_type": "code",
      "execution_count": null,
      "metadata": {
        "id": "f8_Zye4MwQ_A"
      },
      "outputs": [],
      "source": [
        "import os\n",
        "\n",
        "    \n",
        "metadata.to_csv('/metadata.csv')\n",
        "#final.to_csv('datasets/final/final.csv')"
      ]
    }
  ],
  "metadata": {
    "kernelspec": {
      "display_name": "Python 3",
      "language": "python",
      "name": "python3"
    },
    "language_info": {
      "codemirror_mode": {
        "name": "ipython",
        "version": 3
      },
      "file_extension": ".py",
      "mimetype": "text/x-python",
      "name": "python",
      "nbconvert_exporter": "python",
      "pygments_lexer": "ipython3",
      "version": "3.6.5"
    },
    "notify_time": "5",
    "colab": {
      "name": "Копия блокнота \"Music Recommendation System (Data Processing and Analysis).ipynb\"",
      "provenance": [],
      "include_colab_link": true
    }
  },
  "nbformat": 4,
  "nbformat_minor": 0
}